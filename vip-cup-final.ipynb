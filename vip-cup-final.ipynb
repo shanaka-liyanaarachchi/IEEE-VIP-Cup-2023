{
 "cells": [
  {
   "cell_type": "code",
   "execution_count": null,
   "metadata": {},
   "outputs": [],
   "source": []
  },
  {
   "cell_type": "code",
   "execution_count": 1,
   "metadata": {
    "_cell_guid": "b1076dfc-b9ad-4769-8c92-a6c4dae69d19",
    "_uuid": "8f2839f25d086af736a60e9eeb907d3b93b6e0e5",
    "execution": {
     "iopub.execute_input": "2023-09-04T05:50:25.023618Z",
     "iopub.status.busy": "2023-09-04T05:50:25.023116Z",
     "iopub.status.idle": "2023-09-04T05:50:25.715832Z",
     "shell.execute_reply": "2023-09-04T05:50:25.714864Z",
     "shell.execute_reply.started": "2023-09-04T05:50:25.023575Z"
    }
   },
   "outputs": [
    {
     "name": "stderr",
     "output_type": "stream",
     "text": [
      "/opt/conda/lib/python3.10/site-packages/scipy/__init__.py:146: UserWarning: A NumPy version >=1.16.5 and <1.23.0 is required for this version of SciPy (detected version 1.23.5\n",
      "  warnings.warn(f\"A NumPy version >={np_minversion} and <{np_maxversion}\"\n"
     ]
    },
    {
     "data": {
      "text/plain": [
       "\"\\nimport os\\nfor dirname, _, filenames in os.walk('/kaggle/input'):\\n    for filename in filenames:\\n        print(os.path.join(dirname, filename))\\n\""
      ]
     },
     "execution_count": 1,
     "metadata": {},
     "output_type": "execute_result"
    }
   ],
   "source": [
    "# This Python 3 environment comes with many helpful analytics libraries installed\n",
    "# It is defined by the kaggle/python Docker image: https://github.com/kaggle/docker-python\n",
    "# For example, here's several helpful packages to load\n",
    "\n",
    "import numpy as np # linear algebra\n",
    "import pandas as pd # data processing, CSV file I/O (e.g. pd.read_csv)\n",
    "\n",
    "import sys\n",
    "import time\n",
    "import numpy as np\n",
    "from sklearn.metrics import f1_score\n",
    "import random\n",
    "\n",
    "# Input data files are available in the read-only \"../input/\" directory\n",
    "# For example, running this (by clicking run or pressing Shift+Enter) will list all files under the input directory\n",
    "\n",
    "'''\n",
    "import os\n",
    "for dirname, _, filenames in os.walk('/kaggle/input'):\n",
    "    for filename in filenames:\n",
    "        print(os.path.join(dirname, filename))\n",
    "'''\n",
    "\n",
    "# You can write up to 20GB to the current directory (/kaggle/working/) that gets preserved as output when you create a version using \"Save & Run All\" \n",
    "# You can also write temporary files to /kaggle/temp/, but they won't be saved outside of the current session"
   ]
  },
  {
   "cell_type": "code",
   "execution_count": 2,
   "metadata": {
    "execution": {
     "iopub.execute_input": "2023-09-04T05:50:25.718238Z",
     "iopub.status.busy": "2023-09-04T05:50:25.717711Z",
     "iopub.status.idle": "2023-09-04T05:50:39.787288Z",
     "shell.execute_reply": "2023-09-04T05:50:39.786156Z",
     "shell.execute_reply.started": "2023-09-04T05:50:25.718203Z"
    }
   },
   "outputs": [
    {
     "name": "stdout",
     "output_type": "stream",
     "text": [
      "Collecting pytorch-metric-learning\n",
      "  Downloading pytorch_metric_learning-2.3.0-py3-none-any.whl (115 kB)\n",
      "\u001b[2K     \u001b[90m━━━━━━━━━━━━━━━━━━━━━━━━━━━━━━━━━━━━━━━\u001b[0m \u001b[32m115.3/115.3 kB\u001b[0m \u001b[31m3.3 MB/s\u001b[0m eta \u001b[36m0:00:00\u001b[0m\n",
      "\u001b[?25hRequirement already satisfied: numpy in /opt/conda/lib/python3.10/site-packages (from pytorch-metric-learning) (1.23.5)\n",
      "Requirement already satisfied: scikit-learn in /opt/conda/lib/python3.10/site-packages (from pytorch-metric-learning) (1.2.2)\n",
      "Requirement already satisfied: tqdm in /opt/conda/lib/python3.10/site-packages (from pytorch-metric-learning) (4.65.0)\n",
      "Requirement already satisfied: torch>=1.6.0 in /opt/conda/lib/python3.10/site-packages (from pytorch-metric-learning) (2.0.0)\n",
      "Requirement already satisfied: filelock in /opt/conda/lib/python3.10/site-packages (from torch>=1.6.0->pytorch-metric-learning) (3.12.2)\n",
      "Requirement already satisfied: typing-extensions in /opt/conda/lib/python3.10/site-packages (from torch>=1.6.0->pytorch-metric-learning) (4.6.3)\n",
      "Requirement already satisfied: sympy in /opt/conda/lib/python3.10/site-packages (from torch>=1.6.0->pytorch-metric-learning) (1.12)\n",
      "Requirement already satisfied: networkx in /opt/conda/lib/python3.10/site-packages (from torch>=1.6.0->pytorch-metric-learning) (3.1)\n",
      "Requirement already satisfied: jinja2 in /opt/conda/lib/python3.10/site-packages (from torch>=1.6.0->pytorch-metric-learning) (3.1.2)\n",
      "Requirement already satisfied: scipy>=1.3.2 in /opt/conda/lib/python3.10/site-packages (from scikit-learn->pytorch-metric-learning) (1.11.1)\n",
      "Requirement already satisfied: joblib>=1.1.1 in /opt/conda/lib/python3.10/site-packages (from scikit-learn->pytorch-metric-learning) (1.2.0)\n",
      "Requirement already satisfied: threadpoolctl>=2.0.0 in /opt/conda/lib/python3.10/site-packages (from scikit-learn->pytorch-metric-learning) (3.1.0)\n",
      "Requirement already satisfied: MarkupSafe>=2.0 in /opt/conda/lib/python3.10/site-packages (from jinja2->torch>=1.6.0->pytorch-metric-learning) (2.1.3)\n",
      "Requirement already satisfied: mpmath>=0.19 in /opt/conda/lib/python3.10/site-packages (from sympy->torch>=1.6.0->pytorch-metric-learning) (1.3.0)\n",
      "Installing collected packages: pytorch-metric-learning\n",
      "Successfully installed pytorch-metric-learning-2.3.0\n"
     ]
    }
   ],
   "source": [
    "!pip install pytorch-metric-learning"
   ]
  },
  {
   "cell_type": "code",
   "execution_count": 3,
   "metadata": {
    "execution": {
     "iopub.execute_input": "2023-09-04T05:50:39.791379Z",
     "iopub.status.busy": "2023-09-04T05:50:39.791071Z",
     "iopub.status.idle": "2023-09-04T05:50:41.454908Z",
     "shell.execute_reply": "2023-09-04T05:50:41.453970Z",
     "shell.execute_reply.started": "2023-09-04T05:50:39.791352Z"
    }
   },
   "outputs": [],
   "source": [
    "# model.py\n",
    "\n",
    "import torch\n",
    "import torch.nn as nn\n",
    "import torch.nn.functional as F\n",
    "import torchvision.models as models\n",
    "import torchvision\n",
    "\n",
    "class ResNet(nn.Module):\n",
    "    \"\"\"encoder + classifier\"\"\"\n",
    "    def __init__(self, name='resnet50', num_classes=2):\n",
    "        super(ResNet, self).__init__()\n",
    "        if (name == 'resnet50'):\n",
    "            self.encoder = torchvision.models.resnet50(zero_init_residual=True)\n",
    "            self.encoder.conv1 = nn.Conv2d(1, 64, kernel_size=(7, 7), stride=(2, 2), padding=(3, 3), bias=False)\n",
    "            self.encoder.fc = nn.Identity()\n",
    "            self.fc = nn.Linear(2048, num_classes)\n",
    "        else:\n",
    "            self.encoder = torchvision.models.resnet18(zero_init_residual=True)\n",
    "            self.encoder.conv1 = nn.Conv2d(1, 64, kernel_size=(7, 7), stride=(2, 2), padding=(3, 3), bias=False)\n",
    "            self.encoder.fc = nn.Identity()\n",
    "            self.fc = nn.Linear(512, num_classes)\n",
    "    def forward(self, x):\n",
    "\n",
    "        return self.fc(self.encoder(x))\n",
    "\n"
   ]
  },
  {
   "cell_type": "code",
   "execution_count": 4,
   "metadata": {
    "execution": {
     "iopub.execute_input": "2023-09-04T05:50:41.458333Z",
     "iopub.status.busy": "2023-09-04T05:50:41.457637Z",
     "iopub.status.idle": "2023-09-04T05:50:41.466788Z",
     "shell.execute_reply": "2023-09-04T05:50:41.465617Z",
     "shell.execute_reply.started": "2023-09-04T05:50:41.458296Z"
    }
   },
   "outputs": [],
   "source": [
    "class Prj_Head(nn.Module):\n",
    "    def __init__(self,in_dim,feature_dim):\n",
    "        super(Prj_Head, self).__init__()\n",
    "        \n",
    "        self.g1 = nn.Sequential(nn.Linear(in_dim, 1024, bias=False),\n",
    "                               nn.BatchNorm1d(1024),\n",
    "                               nn.ReLU(inplace=True)\n",
    "                               )\n",
    "        self.g2 = nn.Sequential(nn.Linear(1024, 512, bias=False),\n",
    "                                nn.BatchNorm1d(512),\n",
    "                                nn.ReLU(inplace=True)\n",
    "                                )\n",
    "        self.g3=nn.Linear(512, feature_dim, bias=True)\n",
    "    def forward(self, x):\n",
    "        # print(x.shape)\n",
    "        x = torch.flatten(x, start_dim=1, end_dim=- 1) \n",
    "        x = self.g1(x)\n",
    "        x = self.g2(x)\n",
    "        x = self.g3(x)\n",
    "        return x"
   ]
  },
  {
   "cell_type": "code",
   "execution_count": 5,
   "metadata": {
    "execution": {
     "iopub.execute_input": "2023-09-04T05:50:41.468619Z",
     "iopub.status.busy": "2023-09-04T05:50:41.468279Z",
     "iopub.status.idle": "2023-09-04T05:50:41.477973Z",
     "shell.execute_reply": "2023-09-04T05:50:41.476936Z",
     "shell.execute_reply.started": "2023-09-04T05:50:41.468586Z"
    }
   },
   "outputs": [],
   "source": [
    "class Encdr(nn.Module):\n",
    "    \"\"\"encoder + classifier\"\"\"\n",
    "    def __init__(self, name='resnet50', num_classes=2):\n",
    "        super(Encdr, self).__init__()\n",
    "        self.encoder = torchvision.models.resnet50(pretrained=True, zero_init_residual=True)\n",
    "        self.encoder.conv1 = nn.Conv2d(1, 64, kernel_size=(7, 7), stride=(2, 2), padding=(3, 3), bias=False)\n",
    "        self.encoder.fc = nn.Identity()\n",
    "        self.fc = nn.Linear(2048, 512)\n",
    "\n",
    "    def forward(self, x):\n",
    "\n",
    "        return self.fc(self.encoder(x))\n",
    "    \n",
    "    def add_feature(self):\n",
    "        self.fc1=nn.Linear(512,2)\n",
    "\n",
    "        "
   ]
  },
  {
   "cell_type": "code",
   "execution_count": 6,
   "metadata": {
    "execution": {
     "iopub.execute_input": "2023-09-04T05:50:41.480026Z",
     "iopub.status.busy": "2023-09-04T05:50:41.479679Z",
     "iopub.status.idle": "2023-09-04T05:50:41.497720Z",
     "shell.execute_reply": "2023-09-04T05:50:41.496762Z",
     "shell.execute_reply.started": "2023-09-04T05:50:41.479995Z"
    }
   },
   "outputs": [],
   "source": [
    "# datasets.py\n",
    "\n",
    "import torch.utils.data as data\n",
    "from PIL import Image\n",
    "import numpy as np\n",
    "import pandas as pd\n",
    "import os\n",
    "\n",
    "class OLIVES(data.Dataset):\n",
    "    def __init__(self,df, img_dir, transforms):\n",
    "        self.img_dir = img_dir\n",
    "        self.transforms = transforms\n",
    "        self.df = pd.read_csv(df)\n",
    "    def __len__(self):\n",
    "        return len(self.df)\n",
    "\n",
    "    def __getitem__(self, idx):\n",
    "        path = self.img_dir + self.df.iloc[idx,0]\n",
    "        image = Image.open(path).convert(\"L\")\n",
    "        image = np.array(image)\n",
    "        image = Image.fromarray(image)\n",
    "        image = self.transforms(image)\n",
    "        b1 = self.df.iloc[idx,1]\n",
    "        b2 = self.df.iloc[idx,2]\n",
    "        b3 = self.df.iloc[idx,3]\n",
    "        b4 = self.df.iloc[idx, 4]\n",
    "        b5 = self.df.iloc[idx, 5]\n",
    "        b6 = self.df.iloc[idx, 6]\n",
    "        bio_tensor = torch.tensor([b1, b2, b3, b4, b5, b6])\n",
    "        return image, bio_tensor\n",
    "\n",
    "\n",
    "\n",
    "\n",
    "class RECOVERY(data.Dataset):\n",
    "    def __init__(self,df, img_dir, transforms):\n",
    "        self.img_dir = img_dir\n",
    "        self.transforms = transforms\n",
    "        self.df = pd.read_csv(df)\n",
    "    def __len__(self):\n",
    "        return len(self.df)\n",
    "\n",
    "    def __getitem__(self, idx):\n",
    "        path = self.img_dir + self.df.iloc[idx,0]\n",
    "        image = Image.open(path).convert(\"L\")\n",
    "        image = np.array(image)\n",
    "        image = Image.fromarray(image)\n",
    "        image = self.transforms(image)\n",
    "        return image\n",
    "\n",
    "\n",
    "\n",
    "class RECOVERY_TEST(data.Dataset):\n",
    "    def __init__(self,df, img_dir, transforms):\n",
    "        self.img_dir = img_dir\n",
    "        self.transforms = transforms\n",
    "        self.df = pd.read_csv(df)\n",
    "    def __len__(self):\n",
    "        return len(self.df)\n",
    "\n",
    "    def __getitem__(self, idx):\n",
    "        path = self.img_dir + self.df.iloc[idx,0]\n",
    "        image = Image.open(path).convert(\"L\")\n",
    "        image = np.array(image)\n",
    "        image = Image.fromarray(image)\n",
    "        image = self.transforms(image)\n",
    "        b1 = self.df.iloc[idx,1]\n",
    "        b2 = self.df.iloc[idx,2]\n",
    "        b3 = self.df.iloc[idx,3]\n",
    "        b4 = self.df.iloc[idx, 4]\n",
    "        b5 = self.df.iloc[idx, 5]\n",
    "        b6 = self.df.iloc[idx, 6]\n",
    "        bio_tensor = torch.tensor([b1, b2, b3, b4, b5, b6])\n",
    "        return image, bio_tensor\n"
   ]
  },
  {
   "cell_type": "code",
   "execution_count": 7,
   "metadata": {
    "execution": {
     "iopub.execute_input": "2023-09-04T05:50:41.499835Z",
     "iopub.status.busy": "2023-09-04T05:50:41.499209Z",
     "iopub.status.idle": "2023-09-04T05:50:41.512320Z",
     "shell.execute_reply": "2023-09-04T05:50:41.511340Z",
     "shell.execute_reply.started": "2023-09-04T05:50:41.499803Z"
    }
   },
   "outputs": [],
   "source": [
    "# data_preprocessing.py\n",
    "\n",
    "import pandas as pd\n",
    "import numpy as np\n",
    "\n",
    "import matplotlib.pyplot as plt\n",
    "import glob\n",
    "from tqdm import tqdm\n",
    "from PIL import Image\n",
    "\n",
    "def combine_excel(csv_dir):\n",
    "    filenames = glob.glob(csv_dir + \"/*.xlsx\")\n",
    "    outputxlsx = pd.DataFrame()\n",
    "\n",
    "    for file in filenames:\n",
    "        df = pd.concat(pd.read_excel(file, sheet_name=None), ignore_index=True, sort=False)\n",
    "        outputxlsx = outputxlsx.append(df, ignore_index=True)\n",
    "\n",
    "    outputxlsx.to_csv('test_set_labels.csv',index=False)\n",
    "\n",
    "def analyze_dataframe(csv_dir):\n",
    "    pass\n",
    "\n",
    "def process_images(csv_dir):\n",
    "    df = pd.read_csv(csv_dir)\n",
    "\n",
    "    for i in tqdm(range(0,len(df))):\n",
    "        path = df.iloc[i,0]\n",
    "        im = Image.open(path).convert('L')\n",
    "\n",
    "\n",
    "def numpy_submission(sub_dir,np_dir):\n",
    "    np_file  = np.load(np_dir)\n",
    "    print(len(np_file))\n",
    "    sub_dir = pd.read_csv(sub_dir)\n",
    "    print(len(sub_dir))\n",
    "    for i in range(0,len(sub_dir)):\n",
    "        sub_dir.iloc[i,1] = np_file[i,0]\n",
    "        sub_dir.iloc[i, 2] = np_file[i, 1]\n",
    "        sub_dir.iloc[i, 3] = np_file[i, 2]\n",
    "        sub_dir.iloc[i, 4] = np_file[i, 3]\n",
    "        sub_dir.iloc[i, 5] = np_file[i, 4]\n",
    "        sub_dir.iloc[i, 6] = np_file[i, 5]\n",
    "    print(sub_dir.head())\n",
    "    sub_dir.to_csv('baseline_result.csv',index=False)\n",
    "\n",
    "\n",
    "\n",
    "    #process_images(csv_dir)"
   ]
  },
  {
   "cell_type": "code",
   "execution_count": 8,
   "metadata": {
    "execution": {
     "iopub.execute_input": "2023-09-04T05:50:41.514072Z",
     "iopub.status.busy": "2023-09-04T05:50:41.513727Z",
     "iopub.status.idle": "2023-09-04T05:50:41.546661Z",
     "shell.execute_reply": "2023-09-04T05:50:41.545740Z",
     "shell.execute_reply.started": "2023-09-04T05:50:41.514038Z"
    }
   },
   "outputs": [],
   "source": [
    "from __future__ import print_function\n",
    "\n",
    "import math\n",
    "import numpy as np\n",
    "import torch.optim as optim\n",
    "import os\n",
    "from sklearn.metrics import f1_score\n",
    "import torch.backends.cudnn as cudnn\n",
    "from torchvision import transforms, datasets\n",
    "from torch.utils.data import random_split, Subset, SubsetRandomSampler\n",
    "\n",
    "import torch.nn as nn\n",
    "def set_model(opt, freeze = False):\n",
    "\n",
    "\n",
    "    device = opt.device\n",
    "    model = ResNet(name=opt.model,num_classes = opt.ncls)\n",
    "    if freeze:\n",
    "        model.encoder.requires_grad_(False)\n",
    "    criterion = torch.nn.BCEWithLogitsLoss()\n",
    "\n",
    "    model = model.to(device)\n",
    "    criterion = criterion.to(device)\n",
    "\n",
    "\n",
    "    return model, criterion\n",
    "\n",
    "\n",
    "# model for self supervised training\n",
    "\n",
    "def set_model_st(opt,Net):\n",
    "\n",
    "\n",
    "    device = opt.device\n",
    "    #model = Encdr(name=opt.model,num_classes = opt.ncls)\n",
    "    model = nn.Sequential(\n",
    "    Net, \n",
    "    nn.ReLU(inplace=True),\n",
    "    nn.Linear(512, 6, bias=True))\n",
    "    \n",
    "    criterion = torch.nn.BCEWithLogitsLoss()\n",
    "\n",
    "    model = model.to(device)\n",
    "    criterion = criterion.to(device)\n",
    "\n",
    "\n",
    "    return model, criterion\n",
    "\n",
    "\n",
    "\n",
    "\n",
    "def set_loader(opt):\n",
    "    # construct data loader\n",
    "    if opt.dataset == 'OLIVES' or opt.dataset == 'RECOVERY':\n",
    "        mean = (.1706)\n",
    "        std = (.2112)\n",
    "    else:\n",
    "        raise ValueError('dataset not supported: {}'.format(opt.dataset))\n",
    "\n",
    "    normalize = transforms.Normalize(mean=mean, std=std)\n",
    "\n",
    "    train_transform = transforms.Compose([\n",
    "        transforms.RandomResizedCrop(size=224, scale=(0.2, 1.)),\n",
    "        transforms.RandomHorizontalFlip(),\n",
    "\n",
    "        transforms.RandomApply([\n",
    "            transforms.ColorJitter(0.4, 0.4, 0.4, 0.1)\n",
    "        ], p=0.8),\n",
    "        transforms.RandomGrayscale(p=0.2),\n",
    "        transforms.ToTensor(),\n",
    "        normalize,\n",
    "    ])\n",
    "\n",
    "    val_transform = transforms.Compose([\n",
    "        transforms.Resize((224,224)),\n",
    "        transforms.ToTensor(),\n",
    "        normalize,\n",
    "    ])\n",
    "\n",
    "\n",
    "    if opt.dataset =='OLIVES':\n",
    "        data_path_train = opt.train_image_path\n",
    "        data_path_test = opt.test_image_path\n",
    "        train_dataset = OLIVES(csv_path_train,data_path_train,transforms = train_transform)\n",
    "        cl_train_dataset = RECOVERY(csv_path_train,data_path_train,transforms = train_transform)\n",
    "        unlabelled_train_dataset = RECOVERY(csv_path_unlabelled,data_path_train,transforms = val_transform)\n",
    "        val_dataset = OLIVES(csv_path_valid,data_path_train,transforms = val_transform)\n",
    "        test_dataset = RECOVERY(csv_path_test,data_path_test,transforms = val_transform)\n",
    "        \n",
    "        # Create a random sampler for the subset\n",
    "        np.random.seed(unlabel_seed)\n",
    "        random_indices = np.random.choice(len(unlabelled_train_dataset), unlabel_count, replace=False)\n",
    "        subset_sampler = SubsetRandomSampler(random_indices)\n",
    "\n",
    "    else:\n",
    "        raise ValueError(opt.dataset)\n",
    "\n",
    "    train_loader = torch.utils.data.DataLoader(\n",
    "        train_dataset, batch_size=opt.batch_size, shuffle=True,\n",
    "        num_workers=opt.num_workers, pin_memory=True)\n",
    "    \n",
    "    cl_train_loader = torch.utils.data.DataLoader(\n",
    "        cl_train_dataset, batch_size=opt.batch_size, shuffle=True,\n",
    "        num_workers=opt.num_workers, pin_memory=True)\n",
    "    \n",
    "    val_loader = torch.utils.data.DataLoader(\n",
    "        val_dataset, batch_size=1, shuffle=False,\n",
    "        num_workers=0, pin_memory=True,drop_last=False)\n",
    "    \n",
    "    test_loader = torch.utils.data.DataLoader(\n",
    "        test_dataset, batch_size=1, shuffle=False,\n",
    "        num_workers=0, pin_memory=True,drop_last=False)\n",
    "    \n",
    "    unlabelled_train_loader = torch.utils.data.DataLoader(unlabelled_train_dataset,\n",
    "        sampler=subset_sampler, batch_size=opt.batch_size,\n",
    "        num_workers=opt.num_workers, pin_memory=True)\n",
    "\n",
    "    return train_loader, val_loader, test_loader, unlabelled_train_loader, cl_train_loader\n",
    "\n",
    "\n",
    "\n",
    "\n",
    "class AverageMeter(object):\n",
    "    \"\"\"Computes and stores the average and current value\"\"\"\n",
    "    def __init__(self):\n",
    "        self.reset()\n",
    "\n",
    "    def reset(self):\n",
    "        self.val = 0\n",
    "        self.avg = 0\n",
    "        self.sum = 0\n",
    "        self.count = 0\n",
    "\n",
    "    def update(self, val, n=1):\n",
    "        self.val = val\n",
    "        self.sum += val * n\n",
    "        self.count += n\n",
    "        self.avg = self.sum / self.count\n",
    "\n",
    "\n",
    "def accuracy(output, target, topk=(1,)):\n",
    "    \"\"\"Computes the accuracy over the k top predictions for the specified values of k\"\"\"\n",
    "    with torch.no_grad():\n",
    "        maxk = max(topk)\n",
    "        batch_size = target.size(0)\n",
    "\n",
    "        _, pred = output.topk(maxk, 1, True, True)\n",
    "        pred = pred.t()\n",
    "        correct = pred.eq(target.view(1, -1).expand_as(pred))\n",
    "\n",
    "        res = []\n",
    "        for k in topk:\n",
    "            correct_k = correct[:k].view(-1).float().sum(0, keepdim=True)\n",
    "            res.append(correct_k.mul_(100.0 / batch_size))\n",
    "        return res\n",
    "\n",
    "\n",
    "def adjust_learning_rate(args, optimizer, epoch):\n",
    "    lr = args.learning_rate\n",
    "    if args.cosine:\n",
    "        eta_min = lr * (args.lr_decay_rate ** 3)\n",
    "        lr = eta_min + (lr - eta_min) * (\n",
    "                1 + math.cos(math.pi * epoch / args.epochs)) / 2\n",
    "    else:\n",
    "        steps = np.sum(epoch > np.asarray(args.lr_decay_epochs))\n",
    "        if steps > 0:\n",
    "            lr = lr * (args.lr_decay_rate ** steps)\n",
    "    for param_group in optimizer.param_groups:\n",
    "        param_group['lr'] = lr\n",
    "\n",
    "\n",
    "def warmup_learning_rate(args, epoch, batch_id, total_batches, optimizer):\n",
    "    if args.warm and epoch <= args.warm_epochs:\n",
    "        p = (batch_id + (epoch - 1) * total_batches) / \\\n",
    "            (args.warm_epochs * total_batches)\n",
    "        lr = args.warmup_from + p * (args.warmup_to - args.warmup_from)\n",
    "\n",
    "        for param_group in optimizer.param_groups:\n",
    "            param_group['lr'] = lr\n",
    "\n",
    "\n",
    "def set_optimizer(opt, model):\n",
    "\n",
    "    optimizer = optim.SGD(model.parameters(),\n",
    "                          lr=opt.learning_rate,\n",
    "                          momentum=opt.momentum,\n",
    "                          weight_decay=opt.weight_decay)\n",
    "    #optimizer = torch.optim.Adam(model.parameters(), lr=opt.learning_rate)\n",
    "\n",
    "    return optimizer\n",
    "\n",
    "\n",
    "def save_model(model, optimizer, opt, epoch, save_file):\n",
    "    print('==> Saving...')\n",
    "    state = {\n",
    "        'opt': opt,\n",
    "        'model': model.state_dict(),\n",
    "        'optimizer': optimizer.state_dict(),\n",
    "        'epoch': epoch,\n",
    "    }\n",
    "    torch.save(state, save_file)\n",
    "    del state\n",
    "    \n",
    "def save_model_unsupervised(net, projection_head, save_file):\n",
    "    print('==> Saving...')\n",
    "    state = {\n",
    "        'net': net.state_dict(),\n",
    "        'head': projection_head.state_dict()\n",
    "    }\n",
    "    torch.save(state, save_file)\n",
    "    del state"
   ]
  },
  {
   "cell_type": "code",
   "execution_count": 9,
   "metadata": {
    "execution": {
     "iopub.execute_input": "2023-09-04T05:50:41.548541Z",
     "iopub.status.busy": "2023-09-04T05:50:41.548212Z",
     "iopub.status.idle": "2023-09-04T05:50:41.560387Z",
     "shell.execute_reply": "2023-09-04T05:50:41.559333Z",
     "shell.execute_reply.started": "2023-09-04T05:50:41.548510Z"
    }
   },
   "outputs": [],
   "source": [
    "import torch.utils.data\n",
    "\n",
    "def set_unlabel_loader(opt, unlabel_seed, unlabel_count):\n",
    "    # construct data loader\n",
    "    mean = (.1706)\n",
    "    std = (.2112)\n",
    "\n",
    "    normalize = transforms.Normalize(mean=mean, std=std)\n",
    "\n",
    "    val_transform = transforms.Compose([\n",
    "        transforms.Resize((224,224)),\n",
    "        transforms.ToTensor(),\n",
    "        normalize,\n",
    "    ])\n",
    "    \n",
    "    data_path_train = opt.train_image_path\n",
    "    data_path_test = opt.test_image_path\n",
    "    \n",
    "    unlabelled_train_dataset = RECOVERY(csv_path_unlabelled,data_path_train,transforms = val_transform)\n",
    "    test_dataset = RECOVERY(csv_path_test,data_path_test,transforms = val_transform)\n",
    "    \n",
    "    full_dataset = torch.utils.data.ConcatDataset([unlabelled_train_dataset, test_dataset])\n",
    "\n",
    "    # Create a random sampler for the subset\n",
    "    np.random.seed(unlabel_seed)\n",
    "    random_indices = np.random.choice(len(full_dataset), unlabel_count, replace=False)\n",
    "    subset_sampler = SubsetRandomSampler(random_indices)\n",
    "    \n",
    "    unlabelled_train_loader = torch.utils.data.DataLoader(full_dataset,\n",
    "        sampler=subset_sampler, batch_size=opt.batch_size,\n",
    "        num_workers=opt.num_workers, pin_memory=True)\n",
    "\n",
    "    return unlabelled_train_loader\n"
   ]
  },
  {
   "cell_type": "code",
   "execution_count": 10,
   "metadata": {
    "execution": {
     "iopub.execute_input": "2023-09-04T05:50:41.565432Z",
     "iopub.status.busy": "2023-09-04T05:50:41.565161Z",
     "iopub.status.idle": "2023-09-04T05:50:41.582806Z",
     "shell.execute_reply": "2023-09-04T05:50:41.580677Z",
     "shell.execute_reply.started": "2023-09-04T05:50:41.565399Z"
    }
   },
   "outputs": [
    {
     "name": "stdout",
     "output_type": "stream",
     "text": [
      "Compose(\n",
      "    RandomResizedCrop(size=(224, 224), scale=(0.25, 1.0), ratio=(0.75, 1.3333), interpolation=bilinear, antialias=warn)\n",
      "    RandomApply(\n",
      "    p=0.3\n",
      "    ColorJitter(brightness=(0.76, 1.24), contrast=(0.76, 1.24), saturation=(0.76, 1.24), hue=(-0.06, 0.06))\n",
      ")\n",
      "    RandomApply(\n",
      "    p=0.5\n",
      "    GaussianBlur(kernel_size=(3, 3), sigma=(0.1, 0.2))\n",
      ")\n",
      "    <__main__.FixedRandomRotation object at 0x7d7cd5dbc190>\n",
      ")\n"
     ]
    }
   ],
   "source": [
    "#----------------------------------------------------------------------------------------------------\n",
    "# Augmentations\n",
    "from torchvision import transforms\n",
    "class GaussianBlur(object):\n",
    "    \"\"\"Gaussian blur augmentation in SimCLR https://arxiv.org/abs/2002.05709\"\"\"\n",
    "    \"\"\"Borrowed from MoCo implementation\"\"\"\n",
    "\n",
    "    def __init__(self, sigma=[.1, 2.]):\n",
    "        self.sigma = sigma\n",
    "\n",
    "    def __call__(self, x):\n",
    "        sigma = random.uniform(self.sigma[0], self.sigma[1])\n",
    "        x = x.filter(ImageFilter.GaussianBlur(radius=sigma))\n",
    "        return x\n",
    "    \n",
    "class FixedRandomRotation:\n",
    "    \"\"\"Rotate by one of the given angles.\"\"\"\n",
    "    def __init__(self, angles):\n",
    "        self.angles = angles\n",
    "\n",
    "    def __call__(self, x):\n",
    "        angle = random.choice(self.angles)\n",
    "        return transforms.functional.rotate(x, angle)\n",
    "    \n",
    "def torchvision_transforms(eval=False, aug=None):\n",
    "\n",
    "    trans = []\n",
    "\n",
    "    if aug[\"resize\"]:\n",
    "        trans.append(transforms.Resize(aug[\"resize\"]))\n",
    "\n",
    "    if aug[\"randcrop\"] and aug[\"scale\"] and not eval:\n",
    "        trans.append(transforms.RandomResizedCrop(aug[\"randcrop\"], scale=aug[\"scale\"]))\n",
    "\n",
    "    if aug[\"randcrop\"] and eval:\n",
    "        trans.append(transforms.CenterCrop(aug[\"randcrop\"]))\n",
    "\n",
    "    if aug[\"flip\"] and not eval:\n",
    "        trans.append(transforms.RandomHorizontalFlip(p=0.5))\n",
    "        trans.append(transforms.RandomVerticalFlip(p=0.5))\n",
    "\n",
    "    if aug[\"jitter_d\"] and not eval:\n",
    "        trans.append(transforms.RandomApply(\n",
    "            [transforms.ColorJitter(0.8*aug[\"jitter_d\"], 0.8*aug[\"jitter_d\"], 0.8*aug[\"jitter_d\"], 0.2*aug[\"jitter_d\"])],\n",
    "             p=aug[\"jitter_p\"]))\n",
    "\n",
    "    if aug[\"gaussian_blur\"] and not eval:\n",
    "        trans.append(transforms.RandomApply([transforms.GaussianBlur(kernel_size=3, sigma=(0.1,.2))], p=aug[\"gaussian_blur\"]))\n",
    "\n",
    "    if aug[\"rotation\"] and not eval:\n",
    "        # rotation_transform = FixedRandomRotation(angles=[0, 90, 180, 270])\n",
    "        trans.append(FixedRandomRotation(angles=[0, 90, 180, 270]))\n",
    "\n",
    "\n",
    "    trans = transforms.Compose(trans)\n",
    "   \n",
    "    return trans\n",
    "aug = {\"resize\":0,\n",
    "    \"randcrop\":224,\n",
    "      \"scale\": (0.25, 1.0),\n",
    "      \"flip\":0,\n",
    "      \"jitter_d\":0.3,\n",
    "       \"jitter_p\":0.3,\n",
    "       \"gaussian_blur\":0.5,\n",
    "       \"rotation\":1\n",
    "      }\n",
    "augmentations = torchvision_transforms(aug = aug)\n",
    "print(augmentations)\n",
    "\n",
    "\n"
   ]
  },
  {
   "cell_type": "code",
   "execution_count": 11,
   "metadata": {
    "execution": {
     "iopub.execute_input": "2023-09-04T05:50:41.585193Z",
     "iopub.status.busy": "2023-09-04T05:50:41.584455Z",
     "iopub.status.idle": "2023-09-04T05:50:41.605365Z",
     "shell.execute_reply": "2023-09-04T05:50:41.604365Z",
     "shell.execute_reply.started": "2023-09-04T05:50:41.585162Z"
    }
   },
   "outputs": [],
   "source": [
    "# config.py\n",
    "\n",
    "import argparse\n",
    "import math\n",
    "import os\n",
    "\n",
    "def parse_option(string):\n",
    "    parser = argparse.ArgumentParser('argument for training')\n",
    "\n",
    "    parser.add_argument('--print_freq', type=int, default=10,\n",
    "                        help='print frequency')\n",
    "    parser.add_argument('--save_freq', type=int, default=50,\n",
    "                        help='save frequency')\n",
    "    parser.add_argument('--batch_size', type=int, default=128,\n",
    "                        help='batch_size')\n",
    "    parser.add_argument('--num_workers', type=int, default=8,\n",
    "                        help='num of workers to use')\n",
    "    parser.add_argument('--epochs', type=int, default=100,\n",
    "                        help='number of training epochs')\n",
    "    parser.add_argument('--device', type=str, default='cuda:0')\n",
    "    # optimization\n",
    "    parser.add_argument('--learning_rate', type=float, default=0.05,\n",
    "                        help='learning rate')\n",
    "    parser.add_argument('--patient_lambda', type=float, default=1,\n",
    "                        help='learning rate')\n",
    "    parser.add_argument('--cluster_lambda', type=float, default=1,\n",
    "                        help='learning rate')\n",
    "    parser.add_argument('--lr_decay_epochs', type=str, default='100',\n",
    "                        help='where to decay lr, can be a list')\n",
    "    parser.add_argument('--lr_decay_rate', type=float, default=0.1,\n",
    "                        help='decay rate for learning rate')\n",
    "    parser.add_argument('--weight_decay', type=float, default=1e-4,\n",
    "                        help='weight decay')\n",
    "    parser.add_argument('--momentum', type=float, default=0.9,\n",
    "                        help='momentum')\n",
    "    parser.add_argument('--train_csv_path', type=str, default='train data csv')\n",
    "    parser.add_argument('--test_csv_path', type=str, default='test data csv')\n",
    "    parser.add_argument('--train_image_path', type=str, default='train data csv')\n",
    "    parser.add_argument('--test_image_path', type=str, default='test data csv')\n",
    "\n",
    "    parser.add_argument('--parallel', type=int, default=1, help='data parallel')\n",
    "    parser.add_argument('--ncls', type=int, default=6, help='Number of Classes')\n",
    "    # model dataset\n",
    "    parser.add_argument('--model', type=str, default='resnet50')\n",
    "    parser.add_argument('--dataset', type=str, default='TREX_DME',\n",
    "                        choices=[ 'OLIVES'], help='dataset')\n",
    "    parser.add_argument('--mean', type=str, help='mean of dataset in path in form of str tuple')\n",
    "    parser.add_argument('--std', type=str, help='std of dataset in path in form of str tuple')\n",
    "    parser.add_argument('--data_folder', type=str, default=None, help='path to custom dataset')\n",
    "    parser.add_argument('--size', type=int, default=128, help='parameter for RandomResizedCrop')\n",
    "\n",
    "    # temperature\n",
    "    parser.add_argument('--temp', type=float, default=0.07,\n",
    "                        help='temperature for loss function')\n",
    "\n",
    "\n",
    "\n",
    "    opt = parser.parse_args(string)\n",
    "\n",
    "    # check if dataset is path that passed required arguments\n",
    "    if opt.dataset == 'path':\n",
    "        assert opt.data_folder is not None \\\n",
    "               and opt.mean is not None \\\n",
    "               and opt.std is not None\n",
    "\n",
    "    # set the path according to the environment\n",
    "    if opt.data_folder is None:\n",
    "        opt.data_folder = './datasets/'\n",
    "    opt.model_path = './save/{}_models'.format(opt.dataset)\n",
    "\n",
    "    iterations = opt.lr_decay_epochs.split(',')\n",
    "    opt.lr_decay_epochs = list([])\n",
    "    for it in iterations:\n",
    "        opt.lr_decay_epochs.append(int(it))\n",
    "\n",
    "    opt.model_name = '{}_lr_{}_decay_{}_bsz_{}_temp_{}'. \\\n",
    "        format(opt.model, opt.learning_rate,\n",
    "               opt.weight_decay, opt.batch_size, opt.temp)\n",
    "\n",
    "\n",
    "    opt.save_folder = os.path.join(opt.model_path, opt.model_name)\n",
    "    if not os.path.isdir(opt.save_folder):\n",
    "        os.makedirs(opt.save_folder)\n",
    "\n",
    "    return opt"
   ]
  },
  {
   "cell_type": "code",
   "execution_count": 12,
   "metadata": {
    "execution": {
     "iopub.execute_input": "2023-09-04T05:50:41.609102Z",
     "iopub.status.busy": "2023-09-04T05:50:41.608290Z",
     "iopub.status.idle": "2023-09-04T05:50:41.637125Z",
     "shell.execute_reply": "2023-09-04T05:50:41.636279Z",
     "shell.execute_reply.started": "2023-09-04T05:50:41.609068Z"
    }
   },
   "outputs": [],
   "source": [
    "from pytorch_metric_learning.losses import NTXentLoss\n",
    "ss_loss_func = NTXentLoss(temperature=0.10)\n",
    "\n",
    "def train_ss(Net,projection_head,data_loader, epoch, print_freq = 10):\n",
    "    Net.train()\n",
    "    projection_head.train()\n",
    "    total_loss = AverageMeter()\n",
    "    for idx, x in enumerate(data_loader): \n",
    "        # print(batch_idx)\n",
    "        optimizer.zero_grad()\n",
    "        x = x.to(device)\n",
    "        # Get data representations\n",
    "        \n",
    "        A1 = augmentations(x)\n",
    "        A2 = augmentations(x)\n",
    "        \n",
    "        h1 = Net(A1)\n",
    "        z1 = projection_head(h1)\n",
    "        \n",
    "        h2 = Net(A2)\n",
    "        z2 = projection_head(h2)\n",
    "        \n",
    "        # Prepare for loss\n",
    "        embeddings = torch.cat((z1, z2))\n",
    "        # The same index corresponds to a positive pair\n",
    "        indices = torch.arange(0, z1.size(0), device=z2.device)\n",
    "        labels = torch.cat((indices, indices))\n",
    "        loss = ss_loss_func(embeddings, labels)\n",
    "        loss.backward()\n",
    "        optimizer.step()\n",
    "        total_loss.update(loss.data.item())\n",
    "        \n",
    "        # print info\n",
    "        if (idx + 1) % print_freq == 0:\n",
    "            print('Train: [{0}][{1}/{2}]\\t'.format(\n",
    "                epoch, idx + 1, len(data_loader)))\n",
    "            \n",
    "        del x, A1, A2\n",
    "            \n",
    "    return total_loss.avg"
   ]
  },
  {
   "cell_type": "code",
   "execution_count": 13,
   "metadata": {
    "execution": {
     "iopub.execute_input": "2023-09-04T05:50:41.638473Z",
     "iopub.status.busy": "2023-09-04T05:50:41.638164Z",
     "iopub.status.idle": "2023-09-04T05:50:41.651940Z",
     "shell.execute_reply": "2023-09-04T05:50:41.651079Z",
     "shell.execute_reply.started": "2023-09-04T05:50:41.638442Z"
    }
   },
   "outputs": [],
   "source": [
    "from pytorch_metric_learning.losses import NTXentLoss\n",
    "ss_loss_func = NTXentLoss(temperature=0.10)\n",
    "supervised_loss_func= torch.nn.BCEWithLogitsLoss()\n",
    "\n",
    "\n",
    "class DimensionReductionModule(nn.Module):\n",
    "    def __init__(self, in_features, out_features):\n",
    "        super(DimensionReductionModule, self).__init__()\n",
    "        self.linear = nn.Linear(in_features, out_features)\n",
    "        \n",
    "    def forward(self, x):\n",
    "        x = x.to(self.linear.weight.device)  # Move x to the same device as the linear layer\n",
    "        return self.linear(x)\n",
    "        \n",
    "\n",
    "# ...\n",
    "\n",
    "def train_combined(Net, projection_head, labeled_data_loader, epoch, print_freq=10):\n",
    "    Net.train()\n",
    "    projection_head.train()\n",
    "    total_loss_mtr = AverageMeter()\n",
    "    \n",
    "    # Assuming projection_head produces embeddings with 128 features\n",
    "    # And labeled data has 6 features\n",
    "    dimension_reduction_module = DimensionReductionModule(128, 6)\n",
    "    \n",
    "    \n",
    "    for idx, (x, bio_tensor) in enumerate(labeled_data_loader):\n",
    "        optimizer.zero_grad()\n",
    "        \n",
    "        # Self-supervised loss\n",
    "        x = x.to(device)\n",
    "        A1 = augmentations(x)\n",
    "        A2 = augmentations(x)\n",
    "        h1 = Net(A1)\n",
    "        z1 = projection_head(h1)\n",
    "        h2 = Net(A2)\n",
    "        z2 = projection_head(h2)\n",
    "        embeddings = torch.cat((z1, z2))\n",
    "        indices = torch.arange(0, z1.size(0), device=z2.device)\n",
    "        labels = torch.cat((indices, indices))\n",
    "        ss_loss = ss_loss_func(embeddings, labels)\n",
    "        \n",
    "        labels = bio_tensor.float()\n",
    "        bsz = labels.shape[0]\n",
    "        labels = labels.to(device)\n",
    "        reduced_z1 = dimension_reduction_module(z1)\n",
    "        reduced_z1 = reduced_z1.to(device)\n",
    "        supervised_loss =supervised_loss_func(reduced_z1,labels)\n",
    "        total_loss = ss_loss + 8*supervised_loss\n",
    "        total_loss.backward()\n",
    "        optimizer.step()\n",
    "        \n",
    "        total_loss_mtr.update(total_loss.item(), bsz)\n",
    "        \n",
    "        # Print info\n",
    "        if (idx + 1) % 20 == 0:\n",
    "            print('Train: [{0}][{1}/{2}]\\t'\n",
    "                  'Total Loss: {3:.4f} (Self-Supervised: {4:.4f}, Supervised: {5:.4f})'.format(\n",
    "                    epoch, idx + 1, len(labeled_data_loader), total_loss.item(), ss_loss.item(), supervised_loss.item()))\n",
    "        \n",
    "        del x, A1, A2, labels\n",
    "        \n",
    "    return total_loss_mtr.avg"
   ]
  },
  {
   "cell_type": "code",
   "execution_count": 14,
   "metadata": {
    "execution": {
     "iopub.execute_input": "2023-09-04T05:50:41.654024Z",
     "iopub.status.busy": "2023-09-04T05:50:41.653329Z",
     "iopub.status.idle": "2023-09-04T05:50:41.665676Z",
     "shell.execute_reply": "2023-09-04T05:50:41.665010Z",
     "shell.execute_reply.started": "2023-09-04T05:50:41.653993Z"
    }
   },
   "outputs": [],
   "source": [
    "def train_supervised(train_loader, val_loader, model,criterion, optimizer, epoch, opt):\n",
    "    \"\"\"one epoch training\"\"\"\n",
    "    model.train()\n",
    "\n",
    "\n",
    "    batch_time = AverageMeter()\n",
    "    data_time = AverageMeter()\n",
    "    losses = AverageMeter()\n",
    "    device = opt.device\n",
    "    end = time.time()\n",
    "    correct_predictions = 0\n",
    "\n",
    "    for idx, (image, bio_tensor) in enumerate(train_loader):\n",
    "        data_time.update(time.time() - end)\n",
    "\n",
    "        images = image.to(device)\n",
    "\n",
    "        labels = bio_tensor.float()\n",
    "\n",
    "        labels = labels.to(device)\n",
    "        bsz = labels.shape[0]\n",
    "\n",
    "        # compute loss\n",
    "        output = model(images)\n",
    "        loss = criterion(output, labels)\n",
    "        \n",
    "        # Calculate training accuracy\n",
    "        predicted_labels = torch.round(torch.sigmoid(output)) \n",
    "        correct_predictions += (predicted_labels == labels).sum().item()\n",
    "\n",
    "        # update metric\n",
    "        losses.update(loss.item(), bsz)\n",
    "\n",
    "        # SGD\n",
    "        optimizer.zero_grad()\n",
    "        loss.backward()\n",
    "        optimizer.step()\n",
    "\n",
    "        # measure elapsed time\n",
    "        batch_time.update(time.time() - end)\n",
    "        end = time.time()\n",
    "\n",
    "        # print info\n",
    "        if (idx + 1) % 20 == 0:\n",
    "            print('Train: [{0}][{1}/{2}]\\t'.format(\n",
    "                epoch, idx + 1, len(train_loader)))\n",
    "\n",
    "            sys.stdout.flush()\n",
    "\n",
    "    total_values = len(train_loader.dataset) * 6\n",
    "    training_accuracy = (correct_predictions / total_values) * 100.0\n",
    "    print(f\"Training Accuracy: {training_accuracy:.2f}%\")\n",
    "    print(\"Training loss:\", losses.avg)\n",
    "    \n",
    "    return losses.avg\n"
   ]
  },
  {
   "cell_type": "code",
   "execution_count": 15,
   "metadata": {
    "execution": {
     "iopub.execute_input": "2023-09-04T05:50:41.667506Z",
     "iopub.status.busy": "2023-09-04T05:50:41.666906Z",
     "iopub.status.idle": "2023-09-04T05:50:41.678734Z",
     "shell.execute_reply": "2023-09-04T05:50:41.677801Z",
     "shell.execute_reply.started": "2023-09-04T05:50:41.667476Z"
    }
   },
   "outputs": [],
   "source": [
    "def submission_generate(val_loader, model, opt, epoch = 'final'):\n",
    "    \"\"\"validation\"\"\"\n",
    "    model.eval()\n",
    "\n",
    "    device = opt.device\n",
    "    out_list = []\n",
    "    with torch.no_grad():\n",
    "        for idx, image in (enumerate(val_loader)):\n",
    "\n",
    "            images = image.float().to(device)\n",
    "\n",
    "            # forward\n",
    "            output = model(images)\n",
    "            output = torch.round(torch.sigmoid(output))\n",
    "            out_list.append(output.squeeze().detach().cpu().numpy())\n",
    "\n",
    "\n",
    "    out_submisison = np.array(out_list)\n",
    "    np.save('output',out_submisison)\n",
    "    \n",
    "    output = np.load('/kaggle/working/output.npy')\n",
    "    submission = pd.read_csv(\"/kaggle/input/olives-vip-cup-2023/TEST_PHASE2/TEST_PHASE2/Phase2_submission_template.csv\")\n",
    "    submission.iloc[:, 1:] = output\n",
    "    submission.to_csv(f\"/kaggle/working/submission_A{epoch}.csv\", index = False)\n"
   ]
  },
  {
   "cell_type": "code",
   "execution_count": 16,
   "metadata": {
    "execution": {
     "iopub.execute_input": "2023-09-04T05:50:41.682363Z",
     "iopub.status.busy": "2023-09-04T05:50:41.682074Z",
     "iopub.status.idle": "2023-09-04T05:50:41.693673Z",
     "shell.execute_reply": "2023-09-04T05:50:41.693005Z",
     "shell.execute_reply.started": "2023-09-04T05:50:41.682332Z"
    }
   },
   "outputs": [],
   "source": [
    "def sample_evaluation(val_loader, model, opt):\n",
    "    \"\"\"validation\"\"\"\n",
    "    model.eval()\n",
    "\n",
    "    device = opt.device\n",
    "    out_list = []\n",
    "    label_list = []\n",
    "    correct_count = 0\n",
    "    total_count = 0\n",
    "\n",
    "    with torch.no_grad():\n",
    "        for idx, (image,bio_tensor) in (enumerate(val_loader)):\n",
    "\n",
    "            images = image.float().to(device)\n",
    "            labels = bio_tensor.float().to(device)\n",
    "\n",
    "            labels = labels.float()\n",
    "\n",
    "            label_list.append(labels.squeeze().detach().cpu().numpy())\n",
    "            # forward\n",
    "            output = model(images)\n",
    "            output = torch.round(torch.sigmoid(output))\n",
    "            out_list.append(output.squeeze().detach().cpu().numpy())\n",
    "            \n",
    "            correct_count += (labels == output).sum().item()\n",
    "            total_count += len(labels) * 6\n",
    "        \n",
    "    print(\"Validation accuracy:\", (correct_count / total_count) * 100, \"%\")\n",
    "\n",
    "    label_array = np.array(label_list)\n",
    "    out_array = np.array(out_list)\n",
    "    f = f1_score(label_array,out_array,average='macro')\n",
    "    print(\"Validation F1:\", f)\n",
    "    \n",
    "    return f"
   ]
  },
  {
   "cell_type": "code",
   "execution_count": 17,
   "metadata": {
    "execution": {
     "iopub.execute_input": "2023-09-04T05:50:41.695665Z",
     "iopub.status.busy": "2023-09-04T05:50:41.694744Z",
     "iopub.status.idle": "2023-09-04T05:50:41.704165Z",
     "shell.execute_reply": "2023-09-04T05:50:41.703569Z",
     "shell.execute_reply.started": "2023-09-04T05:50:41.695633Z"
    }
   },
   "outputs": [],
   "source": [
    "def sample_evaluation_acc(val_loader, model, opt):\n",
    "    \"\"\"validation\"\"\"\n",
    "    model.eval()\n",
    "\n",
    "    device = opt.device\n",
    "    out_list = []\n",
    "    label_list = []\n",
    "    correct_count = 0\n",
    "    total_count = 0\n",
    "\n",
    "    with torch.no_grad():\n",
    "        for idx, (image,bio_tensor) in (enumerate(val_loader)):\n",
    "\n",
    "            images = image.float().to(device)\n",
    "            labels = bio_tensor.float().to(device)\n",
    "\n",
    "            labels = labels.float()\n",
    "\n",
    "            #label_list.append(labels.squeeze().detach().cpu().numpy())\n",
    "            # forward\n",
    "            output = model(images)\n",
    "            output = torch.round(torch.sigmoid(output))\n",
    "            #out_list.append(output.squeeze().detach().cpu().numpy())\n",
    "            \n",
    "            correct_count += (labels == output).sum().item()\n",
    "            total_count += len(labels) * 6\n",
    "        \n",
    "    print((correct_count / total_count) * 100, \"%\")\n",
    "\n"
   ]
  },
  {
   "cell_type": "code",
   "execution_count": 18,
   "metadata": {
    "execution": {
     "iopub.execute_input": "2023-09-04T05:50:41.706259Z",
     "iopub.status.busy": "2023-09-04T05:50:41.705280Z",
     "iopub.status.idle": "2023-09-04T05:50:41.718897Z",
     "shell.execute_reply": "2023-09-04T05:50:41.717326Z",
     "shell.execute_reply.started": "2023-09-04T05:50:41.706234Z"
    }
   },
   "outputs": [],
   "source": [
    "def load_model(model, load_file, key = 'model'):\n",
    "    print('==> Loading...')\n",
    "    checkpoint = torch.load(load_file)\n",
    "    model.load_state_dict(checkpoint[key])\n",
    "    return model\n",
    "\n",
    "def load_model_unsupervised(net, head, load_file):\n",
    "    print('==> Loading...')\n",
    "    checkpoint = torch.load(load_file)\n",
    "    net.load_state_dict(checkpoint['net'])\n",
    "    head.load_state_dict(checkpoint['head'])\n",
    "    return model"
   ]
  },
  {
   "cell_type": "code",
   "execution_count": 19,
   "metadata": {
    "execution": {
     "iopub.execute_input": "2023-09-04T05:50:41.721135Z",
     "iopub.status.busy": "2023-09-04T05:50:41.720242Z",
     "iopub.status.idle": "2023-09-04T05:50:41.730097Z",
     "shell.execute_reply": "2023-09-04T05:50:41.729371Z",
     "shell.execute_reply.started": "2023-09-04T05:50:41.721103Z"
    }
   },
   "outputs": [],
   "source": [
    "if not os.path.isdir('/kaggle/working/supervised'):\n",
    "    os.makedirs('/kaggle/working/supervised')\n",
    "if not os.path.isdir('/kaggle/working/unsupervised'):\n",
    "    os.makedirs('/kaggle/working/unsupervised')"
   ]
  },
  {
   "cell_type": "code",
   "execution_count": 20,
   "metadata": {
    "execution": {
     "iopub.execute_input": "2023-09-04T05:50:41.732187Z",
     "iopub.status.busy": "2023-09-04T05:50:41.731146Z",
     "iopub.status.idle": "2023-09-04T05:50:41.742472Z",
     "shell.execute_reply": "2023-09-04T05:50:41.741820Z",
     "shell.execute_reply.started": "2023-09-04T05:50:41.732102Z"
    }
   },
   "outputs": [],
   "source": [
    "args = args = ['--batch_size', '16', '--model', \"resnet50\", '--dataset', 'OLIVES', '--epochs', '2', '--device', 'cuda:0', '--train_image_path', '/kaggle/input/olives-vip-cup-2023/olives/2023 IEEE SPS Video and Image Processing (VIP) Cup - Ophthalmic Biomarker Detection/TRAIN/OLIVES', '--test_image_path', '/kaggle/input/olives-vip-cup-2023/TEST_PHASE2/TEST_PHASE2/VIPCUPData_Phase2/DME/', '--test_csv_path', '/kaggle/input/olives-vip-cup-2023/TEST_PHASE2/TEST_PHASE2/Phase2_submission_template.csv', '--train_csv_path', '/kaggle/input/olives/olives-training-labels/Training_Biomarker_Data.csv']\n",
    "opt = parse_option(args)\n",
    "\n",
    "# CSV paths\n",
    "csv_path_train = \"/kaggle/input/olives-training-labels/training_split_biomarker_data.csv\"\n",
    "csv_path_valid = \"/kaggle/input/olives-training-labels/validation_biomarker_data.csv\"\n",
    "csv_path_test = \"/kaggle/input/olives-vip-cup-2023/TEST_PHASE2/TEST_PHASE2/Phase2_submission_template.csv\"\n",
    "csv_path_unlabelled = \"/kaggle/input/olives-training-labels/unlabelled_images.csv\""
   ]
  },
  {
   "cell_type": "code",
   "execution_count": null,
   "metadata": {},
   "outputs": [],
   "source": []
  },
  {
   "cell_type": "code",
   "execution_count": 21,
   "metadata": {
    "execution": {
     "iopub.execute_input": "2023-09-04T05:50:41.744195Z",
     "iopub.status.busy": "2023-09-04T05:50:41.743570Z",
     "iopub.status.idle": "2023-09-04T05:50:42.175739Z",
     "shell.execute_reply": "2023-09-04T05:50:42.173675Z",
     "shell.execute_reply.started": "2023-09-04T05:50:41.744162Z"
    }
   },
   "outputs": [
    {
     "name": "stderr",
     "output_type": "stream",
     "text": [
      "/opt/conda/lib/python3.10/site-packages/torch/utils/data/dataloader.py:561: UserWarning: This DataLoader will create 8 worker processes in total. Our suggested max number of worker in current system is 2, which is smaller than what this DataLoader is going to create. Please be aware that excessive worker creation might get DataLoader running slow or even freeze, lower the worker number to avoid potential slowness/freeze if necessary.\n",
      "  warnings.warn(_create_warning_msg(\n",
      "/opt/conda/lib/python3.10/site-packages/torch/utils/data/dataloader.py:561: UserWarning: This DataLoader will create 8 worker processes in total. Our suggested max number of worker in current system is 2, which is smaller than what this DataLoader is going to create. Please be aware that excessive worker creation might get DataLoader running slow or even freeze, lower the worker number to avoid potential slowness/freeze if necessary.\n",
      "  warnings.warn(_create_warning_msg(\n"
     ]
    }
   ],
   "source": [
    "# build data loader\n",
    "unlabel_count = 25000\n",
    "unlabel_seed = 1231\n",
    "opt.batch_size = 64\n",
    "train_loader, val_loader, test_loader, unlabelled_train_loader, cl_train_loader = set_loader(opt)\n",
    "unlabelled_train_loader = set_unlabel_loader(opt, unlabel_seed, unlabel_count)"
   ]
  },
  {
   "cell_type": "code",
   "execution_count": 22,
   "metadata": {
    "execution": {
     "iopub.execute_input": "2023-09-04T05:50:42.177438Z",
     "iopub.status.busy": "2023-09-04T05:50:42.177093Z",
     "iopub.status.idle": "2023-09-04T05:50:42.184592Z",
     "shell.execute_reply": "2023-09-04T05:50:42.183379Z",
     "shell.execute_reply.started": "2023-09-04T05:50:42.177411Z"
    }
   },
   "outputs": [
    {
     "data": {
      "text/plain": [
       "391"
      ]
     },
     "execution_count": 22,
     "metadata": {},
     "output_type": "execute_result"
    }
   ],
   "source": [
    "len(unlabelled_train_loader)"
   ]
  },
  {
   "cell_type": "code",
   "execution_count": 23,
   "metadata": {
    "execution": {
     "iopub.execute_input": "2023-09-04T05:50:42.187272Z",
     "iopub.status.busy": "2023-09-04T05:50:42.186484Z",
     "iopub.status.idle": "2023-09-04T05:50:42.193458Z",
     "shell.execute_reply": "2023-09-04T05:50:42.192448Z",
     "shell.execute_reply.started": "2023-09-04T05:50:42.187235Z"
    }
   },
   "outputs": [],
   "source": [
    "torch.cuda.empty_cache()"
   ]
  },
  {
   "cell_type": "code",
   "execution_count": 24,
   "metadata": {
    "execution": {
     "iopub.execute_input": "2023-09-04T05:50:42.196207Z",
     "iopub.status.busy": "2023-09-04T05:50:42.195366Z",
     "iopub.status.idle": "2023-09-04T05:50:42.204370Z",
     "shell.execute_reply": "2023-09-04T05:50:42.203427Z",
     "shell.execute_reply.started": "2023-09-04T05:50:42.196166Z"
    }
   },
   "outputs": [],
   "source": [
    "##### UNSUPERVISED LEARNING PART"
   ]
  },
  {
   "cell_type": "code",
   "execution_count": 25,
   "metadata": {
    "execution": {
     "iopub.execute_input": "2023-09-04T05:50:42.207079Z",
     "iopub.status.busy": "2023-09-04T05:50:42.206600Z",
     "iopub.status.idle": "2023-09-04T05:50:47.179043Z",
     "shell.execute_reply": "2023-09-04T05:50:47.178041Z",
     "shell.execute_reply.started": "2023-09-04T05:50:42.207037Z"
    }
   },
   "outputs": [
    {
     "name": "stderr",
     "output_type": "stream",
     "text": [
      "/opt/conda/lib/python3.10/site-packages/torchvision/models/_utils.py:208: UserWarning: The parameter 'pretrained' is deprecated since 0.13 and may be removed in the future, please use 'weights' instead.\n",
      "  warnings.warn(\n",
      "/opt/conda/lib/python3.10/site-packages/torchvision/models/_utils.py:223: UserWarning: Arguments other than a weight enum or `None` for 'weights' are deprecated since 0.13 and may be removed in the future. The current behavior is equivalent to passing `weights=ResNet50_Weights.IMAGENET1K_V1`. You can also use `weights=ResNet50_Weights.DEFAULT` to get the most up-to-date weights.\n",
      "  warnings.warn(msg)\n",
      "Downloading: \"https://download.pytorch.org/models/resnet50-0676ba61.pth\" to /root/.cache/torch/hub/checkpoints/resnet50-0676ba61.pth\n",
      "100%|██████████| 97.8M/97.8M [00:01<00:00, 77.7MB/s]\n"
     ]
    }
   ],
   "source": [
    "#--------------------------------------------------------------------------\n",
    "device = torch.device(\"cuda:0\" )\n",
    "Net = Encdr().to(device)\n",
    "projection_head = Prj_Head(512,128).to(device)\n",
    "\n",
    "optimizer = torch.optim.Adam(list(Net.parameters())+list(projection_head.parameters()), lr=0.004)\n",
    "scheduler = torch.optim.lr_scheduler.StepLR(optimizer, step_size=18, gamma=0.5)\n",
    "#optimizer = optim.SGD(list(Net.parameters())+list(projection_head.parameters()), lr=0.0005)\n",
    "#scheduler = torch.optim.lr_scheduler.StepLR(optimizer, step_size=20, gamma=0.5)\n",
    "#train(Net,projection_head,train_loader)"
   ]
  },
  {
   "cell_type": "code",
   "execution_count": 26,
   "metadata": {
    "execution": {
     "iopub.execute_input": "2023-09-04T05:50:47.181253Z",
     "iopub.status.busy": "2023-09-04T05:50:47.180618Z",
     "iopub.status.idle": "2023-09-04T06:05:31.562839Z",
     "shell.execute_reply": "2023-09-04T06:05:31.561634Z",
     "shell.execute_reply.started": "2023-09-04T05:50:47.181216Z"
    }
   },
   "outputs": [
    {
     "name": "stderr",
     "output_type": "stream",
     "text": [
      "/opt/conda/lib/python3.10/site-packages/torchvision/transforms/functional.py:1603: UserWarning: The default value of the antialias parameter of all the resizing transforms (Resize(), RandomResizedCrop(), etc.) will change from None to True in v0.17, in order to be consistent across the PIL and Tensor backends. To suppress this warning, directly pass antialias=True (recommended, future default), antialias=None (current default, which means False for Tensors and True for PIL), or antialias=False (only works on Tensors - PIL will still use antialiasing). This also applies if you are using the inference transforms from the models weights: update the call to weights.transforms(antialias=True).\n",
      "  warnings.warn(\n"
     ]
    },
    {
     "name": "stdout",
     "output_type": "stream",
     "text": [
      "Train: [1][20/140]\tTotal Loss: 8.7472 (Self-Supervised: 3.5043, Supervised: 0.6554)\n",
      "Train: [1][40/140]\tTotal Loss: 9.1208 (Self-Supervised: 3.7398, Supervised: 0.6726)\n",
      "Train: [1][60/140]\tTotal Loss: 6.9901 (Self-Supervised: 2.0696, Supervised: 0.6151)\n",
      "Train: [1][80/140]\tTotal Loss: 6.7642 (Self-Supervised: 1.9883, Supervised: 0.5970)\n",
      "Train: [1][100/140]\tTotal Loss: 9.4360 (Self-Supervised: 3.4340, Supervised: 0.7502)\n",
      "Train: [1][120/140]\tTotal Loss: 6.4944 (Self-Supervised: 1.8625, Supervised: 0.5790)\n",
      "Train: [1][140/140]\tTotal Loss: 7.5782 (Self-Supervised: 2.8121, Supervised: 0.5958)\n",
      "Epoch   1, Loss: 8.2151\n",
      "==> Saving...\n",
      "Train: [2][20/140]\tTotal Loss: 8.0435 (Self-Supervised: 2.8768, Supervised: 0.6458)\n",
      "Train: [2][40/140]\tTotal Loss: 7.4793 (Self-Supervised: 2.6577, Supervised: 0.6027)\n",
      "Train: [2][60/140]\tTotal Loss: 7.9777 (Self-Supervised: 3.1783, Supervised: 0.5999)\n",
      "Train: [2][80/140]\tTotal Loss: 6.4002 (Self-Supervised: 1.5977, Supervised: 0.6003)\n",
      "Train: [2][100/140]\tTotal Loss: 8.4108 (Self-Supervised: 3.1100, Supervised: 0.6626)\n",
      "Train: [2][120/140]\tTotal Loss: 6.8850 (Self-Supervised: 1.7070, Supervised: 0.6473)\n",
      "Train: [2][140/140]\tTotal Loss: 7.3641 (Self-Supervised: 2.1948, Supervised: 0.6462)\n",
      "Epoch   2, Loss: 7.4324\n",
      "==> Saving...\n",
      "Train: [3][20/140]\tTotal Loss: 7.4344 (Self-Supervised: 2.4072, Supervised: 0.6284)\n",
      "Train: [3][40/140]\tTotal Loss: 8.0973 (Self-Supervised: 3.2019, Supervised: 0.6119)\n",
      "Train: [3][60/140]\tTotal Loss: 7.7117 (Self-Supervised: 2.7363, Supervised: 0.6219)\n",
      "Train: [3][80/140]\tTotal Loss: 5.9597 (Self-Supervised: 1.1220, Supervised: 0.6047)\n",
      "Train: [3][100/140]\tTotal Loss: 8.6076 (Self-Supervised: 3.2154, Supervised: 0.6740)\n",
      "Train: [3][120/140]\tTotal Loss: 6.6100 (Self-Supervised: 1.7543, Supervised: 0.6070)\n",
      "Train: [3][140/140]\tTotal Loss: 7.8755 (Self-Supervised: 1.6321, Supervised: 0.7804)\n",
      "Epoch   3, Loss: 7.2785\n",
      "==> Saving...\n",
      "Train: [4][20/140]\tTotal Loss: 6.8049 (Self-Supervised: 2.0685, Supervised: 0.5921)\n",
      "Train: [4][40/140]\tTotal Loss: 6.4912 (Self-Supervised: 1.6361, Supervised: 0.6069)\n",
      "Train: [4][60/140]\tTotal Loss: 5.7330 (Self-Supervised: 0.9162, Supervised: 0.6021)\n",
      "Train: [4][80/140]\tTotal Loss: 6.9649 (Self-Supervised: 2.1266, Supervised: 0.6048)\n",
      "Train: [4][100/140]\tTotal Loss: 7.1086 (Self-Supervised: 2.1965, Supervised: 0.6140)\n",
      "Train: [4][120/140]\tTotal Loss: 8.4372 (Self-Supervised: 3.4466, Supervised: 0.6238)\n",
      "Train: [4][140/140]\tTotal Loss: 5.8456 (Self-Supervised: 1.1114, Supervised: 0.5918)\n",
      "Epoch   4, Loss: 6.7373\n",
      "==> Saving...\n",
      "Train: [5][20/140]\tTotal Loss: 5.8774 (Self-Supervised: 1.2735, Supervised: 0.5755)\n",
      "Train: [5][40/140]\tTotal Loss: 5.4856 (Self-Supervised: 0.9241, Supervised: 0.5702)\n",
      "Train: [5][60/140]\tTotal Loss: 6.5202 (Self-Supervised: 1.6961, Supervised: 0.6030)\n",
      "Train: [5][80/140]\tTotal Loss: 6.3358 (Self-Supervised: 1.3853, Supervised: 0.6188)\n",
      "Train: [5][100/140]\tTotal Loss: 5.8471 (Self-Supervised: 1.0473, Supervised: 0.6000)\n",
      "Train: [5][120/140]\tTotal Loss: 6.0298 (Self-Supervised: 1.0749, Supervised: 0.6194)\n",
      "Train: [5][140/140]\tTotal Loss: 6.7424 (Self-Supervised: 2.4130, Supervised: 0.5412)\n",
      "Epoch   5, Loss: 6.4124\n",
      "==> Saving...\n",
      "==> Saving...\n",
      "Train: [6][20/140]\tTotal Loss: 6.5492 (Self-Supervised: 1.6161, Supervised: 0.6166)\n",
      "Train: [6][40/140]\tTotal Loss: 7.2746 (Self-Supervised: 2.5023, Supervised: 0.5965)\n",
      "Train: [6][60/140]\tTotal Loss: 5.5696 (Self-Supervised: 0.6462, Supervised: 0.6154)\n",
      "Train: [6][80/140]\tTotal Loss: 5.6261 (Self-Supervised: 1.0849, Supervised: 0.5676)\n",
      "Train: [6][100/140]\tTotal Loss: 11.9808 (Self-Supervised: 7.2862, Supervised: 0.5868)\n",
      "Train: [6][120/140]\tTotal Loss: 5.2139 (Self-Supervised: 0.5641, Supervised: 0.5812)\n",
      "Train: [6][140/140]\tTotal Loss: 4.9602 (Self-Supervised: 0.2965, Supervised: 0.5830)\n",
      "Epoch   6, Loss: 6.2446\n",
      "==> Saving...\n",
      "Train: [7][20/140]\tTotal Loss: 5.6994 (Self-Supervised: 1.0268, Supervised: 0.5841)\n",
      "Train: [7][40/140]\tTotal Loss: 5.4952 (Self-Supervised: 0.6695, Supervised: 0.6032)\n",
      "Train: [7][60/140]\tTotal Loss: 5.0339 (Self-Supervised: 0.6387, Supervised: 0.5494)\n",
      "Train: [7][80/140]\tTotal Loss: 5.6755 (Self-Supervised: 1.0729, Supervised: 0.5753)\n",
      "Train: [7][100/140]\tTotal Loss: 7.7420 (Self-Supervised: 2.6868, Supervised: 0.6319)\n",
      "Train: [7][120/140]\tTotal Loss: 6.2154 (Self-Supervised: 1.3883, Supervised: 0.6034)\n",
      "Train: [7][140/140]\tTotal Loss: 6.5732 (Self-Supervised: 1.2945, Supervised: 0.6598)\n",
      "Epoch   7, Loss: 5.9926\n",
      "==> Saving...\n",
      "Train: [8][20/140]\tTotal Loss: 6.2038 (Self-Supervised: 1.5131, Supervised: 0.5863)\n",
      "Train: [8][40/140]\tTotal Loss: 5.5952 (Self-Supervised: 0.9901, Supervised: 0.5756)\n",
      "Train: [8][60/140]\tTotal Loss: 5.6303 (Self-Supervised: 0.7987, Supervised: 0.6040)\n",
      "Train: [8][80/140]\tTotal Loss: 6.3420 (Self-Supervised: 1.5720, Supervised: 0.5963)\n",
      "Train: [8][100/140]\tTotal Loss: 5.1545 (Self-Supervised: 0.6872, Supervised: 0.5584)\n",
      "Train: [8][120/140]\tTotal Loss: 5.8603 (Self-Supervised: 0.9016, Supervised: 0.6198)\n",
      "Train: [8][140/140]\tTotal Loss: 6.0982 (Self-Supervised: 0.7080, Supervised: 0.6738)\n",
      "Epoch   8, Loss: 5.9637\n",
      "==> Saving...\n",
      "Train: [9][20/140]\tTotal Loss: 5.6626 (Self-Supervised: 1.1784, Supervised: 0.5605)\n",
      "Train: [9][40/140]\tTotal Loss: 5.0907 (Self-Supervised: 0.6875, Supervised: 0.5504)\n",
      "Train: [9][60/140]\tTotal Loss: 5.2712 (Self-Supervised: 0.9370, Supervised: 0.5418)\n",
      "Train: [9][80/140]\tTotal Loss: 6.5387 (Self-Supervised: 2.1564, Supervised: 0.5478)\n",
      "Train: [9][100/140]\tTotal Loss: 5.4536 (Self-Supervised: 0.7264, Supervised: 0.5909)\n",
      "Train: [9][120/140]\tTotal Loss: 6.1173 (Self-Supervised: 1.1542, Supervised: 0.6204)\n",
      "Train: [9][140/140]\tTotal Loss: 5.0448 (Self-Supervised: 0.6256, Supervised: 0.5524)\n",
      "Epoch   9, Loss: 5.7683\n",
      "==> Saving...\n",
      "Train: [10][20/140]\tTotal Loss: 5.2071 (Self-Supervised: 0.6627, Supervised: 0.5681)\n",
      "Train: [10][40/140]\tTotal Loss: 5.4596 (Self-Supervised: 1.0897, Supervised: 0.5462)\n",
      "Train: [10][60/140]\tTotal Loss: 5.4030 (Self-Supervised: 0.6835, Supervised: 0.5899)\n",
      "Train: [10][80/140]\tTotal Loss: 5.8067 (Self-Supervised: 1.4929, Supervised: 0.5392)\n",
      "Train: [10][100/140]\tTotal Loss: 5.2639 (Self-Supervised: 0.5812, Supervised: 0.5853)\n",
      "Train: [10][120/140]\tTotal Loss: 5.3822 (Self-Supervised: 0.4869, Supervised: 0.6119)\n",
      "Train: [10][140/140]\tTotal Loss: 5.3111 (Self-Supervised: 0.2979, Supervised: 0.6267)\n",
      "Epoch  10, Loss: 5.6933\n",
      "==> Saving...\n",
      "==> Saving...\n"
     ]
    },
    {
     "data": {
      "text/plain": [
       "[<matplotlib.lines.Line2D at 0x7d7cd35a0a30>]"
      ]
     },
     "execution_count": 26,
     "metadata": {},
     "output_type": "execute_result"
    },
    {
     "data": {
      "image/png": "[encoded data removed]",
      "text/plain": [
       "<Figure size 640x480 with 1 Axes>"
      ]
     },
     "metadata": {},
     "output_type": "display_data"
    }
   ],
   "source": [
    "n_epoch = 10\n",
    "loss_list = []\n",
    "best_loss = 5000\n",
    "save_file = os.path.join(opt.save_folder + 'models', 'last.pth')\n",
    "#save_model(model, optimizer, opt, opt.epochs, save_file)\n",
    "\n",
    "for epoch in range(1, n_epoch + 1):\n",
    "    #loss = train_ss(Net,projection_head,unlabelled_train_loader, epoch, print_freq = 50)\n",
    "    loss = train_combined(Net, projection_head, train_loader, epoch, print_freq=20)\n",
    "    print(f'Epoch {epoch:3d}, Loss: {loss:.4f}')\n",
    "    scheduler.step()\n",
    "    loss_list.append(loss)\n",
    "    if loss<best_loss:\n",
    "        best_loss = loss\n",
    "        #torch.save(Net, f'./model_checkpoints/simclr_ki67/resnet50_ki67_dapi_chan_pretraining_best_loss.pth.tar') \n",
    "        #save_model_unsupervised(Net, projection_head, '/kaggle/working/unsupervised/best_loss.pth')\n",
    "        save_model(Net, optimizer, opt, opt.epochs, '/kaggle/working/unsupervised/best_loss.pth')\n",
    "    if epoch % 5 == 0:\n",
    "        #best_loss = loss\n",
    "        #torch.save(Net, f'./model_checkpoints/simclr_ki67/resnet50_ki67_dapi_chan_pretraining_checkpoint.pth.tar') \n",
    "        save_model_unsupervised(Net, projection_head, f'/kaggle/working/unsupervised/w5_epoch{epoch}.pth')\n",
    "        #save_model(Net, optimizer, opt, opt.epochs, f'/kaggle/working/unsupervised/w2_epoch{epoch}.pth')\n",
    "    if epoch % 1003 == 0:\n",
    "        unlabelled_train_loader = set_unlabel_loader(opt, np.random.randint(1, 100000), unlabel_count)\n",
    "        print(\"Dataset changed, indices =\", unlabelled_train_loader.sampler.indices)\n",
    "        \n",
    "#torch.save(Net, f'./model_checkpoints/simclr_ki67/resnet50_ki67_dapi_chan_pretraining_final_checkpoint.pth.tar') \n",
    "plt.figure()\n",
    "plt.plot(loss_list)"
   ]
  },
  {
   "cell_type": "code",
   "execution_count": 27,
   "metadata": {
    "execution": {
     "iopub.execute_input": "2023-09-04T06:05:31.565016Z",
     "iopub.status.busy": "2023-09-04T06:05:31.564662Z",
     "iopub.status.idle": "2023-09-04T06:05:31.956605Z",
     "shell.execute_reply": "2023-09-04T06:05:31.955233Z",
     "shell.execute_reply.started": "2023-09-04T06:05:31.564981Z"
    }
   },
   "outputs": [],
   "source": [
    "torch.cuda.empty_cache()"
   ]
  },
  {
   "cell_type": "code",
   "execution_count": 28,
   "metadata": {
    "execution": {
     "iopub.execute_input": "2023-09-04T06:05:31.970841Z",
     "iopub.status.busy": "2023-09-04T06:05:31.969807Z",
     "iopub.status.idle": "2023-09-04T06:05:31.978569Z",
     "shell.execute_reply": "2023-09-04T06:05:31.977610Z",
     "shell.execute_reply.started": "2023-09-04T06:05:31.970804Z"
    }
   },
   "outputs": [],
   "source": [
    "optimizer = torch.optim.Adam(list(Net.parameters())+list(projection_head.parameters()), lr=0.001)\n",
    "scheduler = torch.optim.lr_scheduler.StepLR(optimizer, step_size=20, gamma=0.5)"
   ]
  },
  {
   "cell_type": "code",
   "execution_count": 29,
   "metadata": {
    "execution": {
     "iopub.execute_input": "2023-09-04T06:05:31.980562Z",
     "iopub.status.busy": "2023-09-04T06:05:31.980243Z",
     "iopub.status.idle": "2023-09-04T07:01:25.510914Z",
     "shell.execute_reply": "2023-09-04T07:01:25.509649Z",
     "shell.execute_reply.started": "2023-09-04T06:05:31.980530Z"
    }
   },
   "outputs": [
    {
     "name": "stdout",
     "output_type": "stream",
     "text": [
      "Train: [1][50/391]\t\n",
      "Train: [1][100/391]\t\n",
      "Train: [1][150/391]\t\n",
      "Train: [1][200/391]\t\n",
      "Train: [1][250/391]\t\n",
      "Train: [1][300/391]\t\n",
      "Train: [1][350/391]\t\n",
      "Epoch   1, Loss: 0.7320\n",
      "==> Saving...\n",
      "Train: [2][50/391]\t\n",
      "Train: [2][100/391]\t\n",
      "Train: [2][150/391]\t\n",
      "Train: [2][200/391]\t\n",
      "Train: [2][250/391]\t\n",
      "Train: [2][300/391]\t\n",
      "Train: [2][350/391]\t\n",
      "Epoch   2, Loss: 0.5859\n",
      "==> Saving...\n",
      "Train: [3][50/391]\t\n",
      "Train: [3][100/391]\t\n",
      "Train: [3][150/391]\t\n",
      "Train: [3][200/391]\t\n",
      "Train: [3][250/391]\t\n",
      "Train: [3][300/391]\t\n",
      "Train: [3][350/391]\t\n",
      "Epoch   3, Loss: 0.4933\n",
      "==> Saving...\n",
      "Train: [4][50/391]\t\n",
      "Train: [4][100/391]\t\n",
      "Train: [4][150/391]\t\n",
      "Train: [4][200/391]\t\n",
      "Train: [4][250/391]\t\n",
      "Train: [4][300/391]\t\n",
      "Train: [4][350/391]\t\n",
      "Epoch   4, Loss: 0.4295\n",
      "==> Saving...\n",
      "==> Saving...\n",
      "Train: [5][50/391]\t\n",
      "Train: [5][100/391]\t\n",
      "Train: [5][150/391]\t\n",
      "Train: [5][200/391]\t\n",
      "Train: [5][250/391]\t\n",
      "Train: [5][300/391]\t\n",
      "Train: [5][350/391]\t\n",
      "Epoch   5, Loss: 0.3775\n",
      "==> Saving...\n",
      "Train: [6][50/391]\t\n",
      "Train: [6][100/391]\t\n",
      "Train: [6][150/391]\t\n",
      "Train: [6][200/391]\t\n",
      "Train: [6][250/391]\t\n",
      "Train: [6][300/391]\t\n",
      "Train: [6][350/391]\t\n",
      "Epoch   6, Loss: 0.3578\n",
      "==> Saving...\n",
      "Train: [7][50/391]\t\n",
      "Train: [7][100/391]\t\n",
      "Train: [7][150/391]\t\n",
      "Train: [7][200/391]\t\n",
      "Train: [7][250/391]\t\n",
      "Train: [7][300/391]\t\n",
      "Train: [7][350/391]\t\n",
      "Epoch   7, Loss: 0.3158\n",
      "==> Saving...\n",
      "Train: [8][50/391]\t\n",
      "Train: [8][100/391]\t\n",
      "Train: [8][150/391]\t\n",
      "Train: [8][200/391]\t\n",
      "Train: [8][250/391]\t\n",
      "Train: [8][300/391]\t\n",
      "Train: [8][350/391]\t\n",
      "Epoch   8, Loss: 0.2751\n",
      "==> Saving...\n",
      "==> Saving...\n",
      "Train: [9][50/391]\t\n",
      "Train: [9][100/391]\t\n",
      "Train: [9][150/391]\t\n",
      "Train: [9][200/391]\t\n",
      "Train: [9][250/391]\t\n",
      "Train: [9][300/391]\t\n",
      "Train: [9][350/391]\t\n",
      "Epoch   9, Loss: 0.2701\n",
      "==> Saving...\n",
      "Train: [10][50/391]\t\n",
      "Train: [10][100/391]\t\n",
      "Train: [10][150/391]\t\n",
      "Train: [10][200/391]\t\n",
      "Train: [10][250/391]\t\n",
      "Train: [10][300/391]\t\n",
      "Train: [10][350/391]\t\n",
      "Epoch  10, Loss: 0.2274\n",
      "==> Saving...\n",
      "Train: [11][50/391]\t\n",
      "Train: [11][100/391]\t\n",
      "Train: [11][150/391]\t\n",
      "Train: [11][200/391]\t\n",
      "Train: [11][250/391]\t\n",
      "Train: [11][300/391]\t\n",
      "Train: [11][350/391]\t\n",
      "Epoch  11, Loss: 0.2126\n",
      "==> Saving...\n",
      "Train: [12][50/391]\t\n",
      "Train: [12][100/391]\t\n",
      "Train: [12][150/391]\t\n",
      "Train: [12][200/391]\t\n",
      "Train: [12][250/391]\t\n",
      "Train: [12][300/391]\t\n",
      "Train: [12][350/391]\t\n",
      "Epoch  12, Loss: 0.2610\n",
      "==> Saving...\n",
      "Train: [13][50/391]\t\n",
      "Train: [13][100/391]\t\n",
      "Train: [13][150/391]\t\n",
      "Train: [13][200/391]\t\n",
      "Train: [13][250/391]\t\n",
      "Train: [13][300/391]\t\n",
      "Train: [13][350/391]\t\n",
      "Epoch  13, Loss: 0.2776\n",
      "Train: [14][50/391]\t\n",
      "Train: [14][100/391]\t\n",
      "Train: [14][150/391]\t\n",
      "Train: [14][200/391]\t\n",
      "Train: [14][250/391]\t\n",
      "Train: [14][300/391]\t\n",
      "Train: [14][350/391]\t\n",
      "Epoch  14, Loss: 0.2072\n",
      "==> Saving...\n"
     ]
    },
    {
     "data": {
      "text/plain": [
       "[<matplotlib.lines.Line2D at 0x7d7cd354d030>]"
      ]
     },
     "execution_count": 29,
     "metadata": {},
     "output_type": "execute_result"
    },
    {
     "data": {
      "image/png": "[encoded data removed]",
      "text/plain": [
       "<Figure size 640x480 with 1 Axes>"
      ]
     },
     "metadata": {},
     "output_type": "display_data"
    }
   ],
   "source": [
    "n_epoch = 14\n",
    "loss_list = []\n",
    "best_loss = 5000\n",
    "save_file = os.path.join(opt.save_folder + 'models', 'last.pth')\n",
    "#save_model(model, optimizer, opt, opt.epochs, save_file)\n",
    "\n",
    "for epoch in range(1, n_epoch + 1):\n",
    "    loss = train_ss(Net,projection_head,unlabelled_train_loader, epoch, print_freq = 50)\n",
    "    #loss = train_combined(Net, projection_head, train_loader, epoch, print_freq=10)\n",
    "    print(f'Epoch {epoch:3d}, Loss: {loss:.4f}')\n",
    "    scheduler.step()\n",
    "    loss_list.append(loss)\n",
    "    if loss<best_loss:\n",
    "        best_loss = loss\n",
    "        #torch.save(Net, f'./model_checkpoints/simclr_ki67/resnet50_ki67_dapi_chan_pretraining_best_loss.pth.tar') \n",
    "        #save_model_unsupervised(Net, projection_head, '/kaggle/working/unsupervised/best_loss.pth')\n",
    "        save_model(Net, optimizer, opt, opt.epochs, '/kaggle/working/best_loss.pth')\n",
    "    if epoch % 4 == 0:\n",
    "        #best_loss = loss\n",
    "        #torch.save(Net, f'./model_checkpoints/simclr_ki67/resnet50_ki67_dapi_chan_pretraining_checkpoint.pth.tar') \n",
    "        #save_model_unsupervised(Net, projection_head, f'/kaggle/working/unsupervised/epoch{epoch}.pth')\n",
    "        save_model(Net, optimizer, opt, opt.epochs, f'/kaggle/working/epoch{epoch}.pth')\n",
    "    if epoch % 1003 == 0:\n",
    "        #unlabelled_train_loader = set_unlabel_loader(opt, np.random.randint(1, 100000), unlabel_count)\n",
    "        #print(\"Dataset changed, indices =\", unlabelled_train_loader.sampler.indices)\n",
    "        loss = train_combined(Net, projection_head, train_loader, epoch, print_freq=20)\n",
    "        \n",
    "#torch.save(Net, f'./model_checkpoints/simclr_ki67/resnet50_ki67_dapi_chan_pretraining_final_checkpoint.pth.tar') \n",
    "plt.figure()\n",
    "plt.plot(loss_list)"
   ]
  },
  {
   "cell_type": "code",
   "execution_count": null,
   "metadata": {},
   "outputs": [],
   "source": [
    "#-----------------------------------------------------------\n",
    "# ---------------evaluate self supervised learning"
   ]
  },
  {
   "cell_type": "code",
   "execution_count": null,
   "metadata": {},
   "outputs": [],
   "source": [
    "Net\n",
    "Net.eval()\n",
    "for batch_idx, (x,bio) in enumerate(train_loader): \n",
    "    if batch_idx % 10 == 0: print(batch_idx)\n",
    "    with torch.no_grad():\n",
    "        embed = Net(x.to(device))\n",
    "        embed = embed.to('cpu')\n",
    "        if batch_idx==0:\n",
    "            embed_list = embed\n",
    "            img_list = x\n",
    "            bio_list = bio\n",
    "        else:\n",
    "            embed_list = torch.cat((embed_list,embed),axis=0)\n",
    "            img_list = torch.cat((img_list,x),axis=0)\n",
    "            bio_list = torch.cat((bio_list, bio), axis = 0)\n",
    "            \n",
    "embed_list = torch.flatten(embed_list, start_dim=1, end_dim=- 1)\n",
    "print(embed_list.shape,img_list.shape, bio_list.shape)"
   ]
  },
  {
   "cell_type": "code",
   "execution_count": null,
   "metadata": {},
   "outputs": [],
   "source": [
    "from sklearn.manifold import TSNE\n",
    "import seaborn as sns\n",
    "import pandas as pd\n",
    "h_embedded = TSNE(n_components=2, learning_rate='auto',\n",
    "                   init='random').fit_transform(embed_list.detach().numpy())\n",
    "\n",
    "# Plot\n",
    "plt.figure(figsize = (50,50))\n",
    "ax = sns.scatterplot(x=h_embedded[:,0], y=h_embedded[:,1])\n",
    "\n",
    "# Add labels to be able to identify the data points\n",
    "annotations = list(range(len(h_embedded[:,0])))\n",
    "\n",
    "def label_points(x, y, val, ax):\n",
    "    a = pd.concat({'x': x, 'y': y, 'val': val}, axis=1)\n",
    "    for i, point in a.iterrows():\n",
    "        ax.text(point['x']+.02, point['y'], str(int(point['val'])))\n",
    "\n",
    "label_points(pd.Series(h_embedded[:,0]), \n",
    "            pd.Series(h_embedded[:,1]), \n",
    "            pd.Series(annotations), \n",
    "            plt.gca()) \n"
   ]
  },
  {
   "cell_type": "code",
   "execution_count": null,
   "metadata": {},
   "outputs": [],
   "source": [
    "images = [8322, 7168, 3096, 1199]\n",
    "fig, ax = plt.subplots(1, 4, figsize = (20, 20))\n",
    "\n",
    "for i, idx in enumerate(images):\n",
    "    ax[i].imshow(img_list[idx][0].numpy(), cmap = 'gray')\n",
    "    ax[i].set_title(bio_list[idx])\n",
    "\n"
   ]
  },
  {
   "cell_type": "code",
   "execution_count": null,
   "metadata": {},
   "outputs": [],
   "source": []
  },
  {
   "cell_type": "code",
   "execution_count": 31,
   "metadata": {
    "execution": {
     "iopub.execute_input": "2023-09-04T07:22:15.198687Z",
     "iopub.status.busy": "2023-09-04T07:22:15.198290Z",
     "iopub.status.idle": "2023-09-04T07:22:15.204319Z",
     "shell.execute_reply": "2023-09-04T07:22:15.202677Z",
     "shell.execute_reply.started": "2023-09-04T07:22:15.198655Z"
    }
   },
   "outputs": [],
   "source": [
    "torch.cuda.empty_cache()"
   ]
  },
  {
   "cell_type": "code",
   "execution_count": 32,
   "metadata": {
    "execution": {
     "iopub.execute_input": "2023-09-04T07:22:15.207378Z",
     "iopub.status.busy": "2023-09-04T07:22:15.206811Z",
     "iopub.status.idle": "2023-09-04T07:22:15.214862Z",
     "shell.execute_reply": "2023-09-04T07:22:15.213797Z",
     "shell.execute_reply.started": "2023-09-04T07:22:15.207345Z"
    }
   },
   "outputs": [],
   "source": [
    "###### SUPERVISED LEARNING PART "
   ]
  },
  {
   "cell_type": "code",
   "execution_count": 33,
   "metadata": {
    "execution": {
     "iopub.execute_input": "2023-09-04T07:22:15.216248Z",
     "iopub.status.busy": "2023-09-04T07:22:15.215956Z",
     "iopub.status.idle": "2023-09-04T07:22:18.276478Z",
     "shell.execute_reply": "2023-09-04T07:22:18.275473Z",
     "shell.execute_reply.started": "2023-09-04T07:22:15.216224Z"
    }
   },
   "outputs": [
    {
     "name": "stdout",
     "output_type": "stream",
     "text": [
      "==> Loading...\n"
     ]
    }
   ],
   "source": [
    "# If loading pretrained\n",
    "load_file = \"/kaggle/working/unsupervised/best_loss.pth\"  # change to model path\n",
    "device = torch.device(\"cuda:0\" )\n",
    "Net = Encdr().to(device)\n",
    "Net = load_model(Net, load_file, \"model\")"
   ]
  },
  {
   "cell_type": "code",
   "execution_count": 34,
   "metadata": {
    "execution": {
     "iopub.execute_input": "2023-09-04T07:22:18.279842Z",
     "iopub.status.busy": "2023-09-04T07:22:18.279459Z",
     "iopub.status.idle": "2023-09-04T07:22:18.290212Z",
     "shell.execute_reply": "2023-09-04T07:22:18.289330Z",
     "shell.execute_reply.started": "2023-09-04T07:22:18.279806Z"
    }
   },
   "outputs": [],
   "source": [
    "#Net.add_feature()\n",
    "model, criterion = set_model_st(opt, Net)    \n",
    "optimizer = set_optimizer(opt, model)"
   ]
  },
  {
   "cell_type": "code",
   "execution_count": 35,
   "metadata": {
    "execution": {
     "iopub.execute_input": "2023-09-04T07:22:18.292382Z",
     "iopub.status.busy": "2023-09-04T07:22:18.291868Z",
     "iopub.status.idle": "2023-09-04T07:22:18.299057Z",
     "shell.execute_reply": "2023-09-04T07:22:18.298099Z",
     "shell.execute_reply.started": "2023-09-04T07:22:18.292351Z"
    }
   },
   "outputs": [],
   "source": [
    "# To check performance without the pre training\n",
    "#model, criterion = set_model(opt)    \n",
    "#optimizer = set_optimizer(opt, model)"
   ]
  },
  {
   "cell_type": "code",
   "execution_count": null,
   "metadata": {},
   "outputs": [],
   "source": []
  },
  {
   "cell_type": "code",
   "execution_count": 36,
   "metadata": {
    "execution": {
     "iopub.execute_input": "2023-09-04T07:22:18.302909Z",
     "iopub.status.busy": "2023-09-04T07:22:18.302278Z",
     "iopub.status.idle": "2023-09-04T07:22:18.309167Z",
     "shell.execute_reply": "2023-09-04T07:22:18.308327Z",
     "shell.execute_reply.started": "2023-09-04T07:22:18.302879Z"
    }
   },
   "outputs": [],
   "source": [
    "# training routine with freezing\n",
    "#model[0].requires_grad_(False)\n",
    "#opt.learning_rate = 0.05\n",
    "#for epoch in range(1, 15+1):\n",
    "#    train_supervised(train_loader, val_loader, model, criterion, optimizer, epoch, opt)"
   ]
  },
  {
   "cell_type": "code",
   "execution_count": 37,
   "metadata": {
    "execution": {
     "iopub.execute_input": "2023-09-04T07:22:18.311258Z",
     "iopub.status.busy": "2023-09-04T07:22:18.310405Z",
     "iopub.status.idle": "2023-09-04T08:29:03.950732Z",
     "shell.execute_reply": "2023-09-04T08:29:03.949496Z",
     "shell.execute_reply.started": "2023-09-04T07:22:18.311232Z"
    }
   },
   "outputs": [
    {
     "name": "stdout",
     "output_type": "stream",
     "text": [
      "Train: [1][20/140]\t\n",
      "Train: [1][40/140]\t\n",
      "Train: [1][60/140]\t\n",
      "Train: [1][80/140]\t\n",
      "Train: [1][100/140]\t\n",
      "Train: [1][120/140]\t\n",
      "Train: [1][140/140]\t\n",
      "Training Accuracy: 67.15%\n",
      "Training loss: 1.2206662773658246\n",
      "Validation accuracy: 69.65986394557822 %\n",
      "Validation F1: 0.3632055746536098\n"
     ]
    },
    {
     "name": "stderr",
     "output_type": "stream",
     "text": [
      "/opt/conda/lib/python3.10/site-packages/torch/utils/data/dataloader.py:561: UserWarning: This DataLoader will create 8 worker processes in total. Our suggested max number of worker in current system is 2, which is smaller than what this DataLoader is going to create. Please be aware that excessive worker creation might get DataLoader running slow or even freeze, lower the worker number to avoid potential slowness/freeze if necessary.\n",
      "  warnings.warn(_create_warning_msg(\n"
     ]
    },
    {
     "name": "stdout",
     "output_type": "stream",
     "text": [
      "Train: [2][20/140]\t\n",
      "Train: [2][40/140]\t\n",
      "Train: [2][60/140]\t\n",
      "Train: [2][80/140]\t\n",
      "Train: [2][100/140]\t\n",
      "Train: [2][120/140]\t\n",
      "Train: [2][140/140]\t\n",
      "Training Accuracy: 70.76%\n",
      "Training loss: 0.5542022588943307\n",
      "Validation accuracy: 66.22448979591836 %\n",
      "Validation F1: 0.35924712015523\n"
     ]
    },
    {
     "name": "stderr",
     "output_type": "stream",
     "text": [
      "/opt/conda/lib/python3.10/site-packages/torch/utils/data/dataloader.py:561: UserWarning: This DataLoader will create 8 worker processes in total. Our suggested max number of worker in current system is 2, which is smaller than what this DataLoader is going to create. Please be aware that excessive worker creation might get DataLoader running slow or even freeze, lower the worker number to avoid potential slowness/freeze if necessary.\n",
      "  warnings.warn(_create_warning_msg(\n"
     ]
    },
    {
     "name": "stdout",
     "output_type": "stream",
     "text": [
      "Train: [3][20/140]\t\n",
      "Train: [3][40/140]\t\n",
      "Train: [3][60/140]\t\n",
      "Train: [3][80/140]\t\n",
      "Train: [3][100/140]\t\n",
      "Train: [3][120/140]\t\n",
      "Train: [3][140/140]\t\n",
      "Training Accuracy: 71.70%\n",
      "Training loss: 0.539672004385202\n",
      "Validation accuracy: 72.44897959183673 %\n",
      "Validation F1: 0.4068357442960309\n"
     ]
    },
    {
     "name": "stderr",
     "output_type": "stream",
     "text": [
      "/opt/conda/lib/python3.10/site-packages/torch/utils/data/dataloader.py:561: UserWarning: This DataLoader will create 8 worker processes in total. Our suggested max number of worker in current system is 2, which is smaller than what this DataLoader is going to create. Please be aware that excessive worker creation might get DataLoader running slow or even freeze, lower the worker number to avoid potential slowness/freeze if necessary.\n",
      "  warnings.warn(_create_warning_msg(\n"
     ]
    },
    {
     "name": "stdout",
     "output_type": "stream",
     "text": [
      "Train: [4][20/140]\t\n",
      "Train: [4][40/140]\t\n",
      "Train: [4][60/140]\t\n",
      "Train: [4][80/140]\t\n",
      "Train: [4][100/140]\t\n",
      "Train: [4][120/140]\t\n",
      "Train: [4][140/140]\t\n",
      "Training Accuracy: 73.18%\n",
      "Training loss: 0.5244425415698657\n",
      "Validation accuracy: 72.89115646258504 %\n",
      "Validation F1: 0.43397532428920144\n"
     ]
    },
    {
     "name": "stderr",
     "output_type": "stream",
     "text": [
      "/opt/conda/lib/python3.10/site-packages/torch/utils/data/dataloader.py:561: UserWarning: This DataLoader will create 8 worker processes in total. Our suggested max number of worker in current system is 2, which is smaller than what this DataLoader is going to create. Please be aware that excessive worker creation might get DataLoader running slow or even freeze, lower the worker number to avoid potential slowness/freeze if necessary.\n",
      "  warnings.warn(_create_warning_msg(\n"
     ]
    },
    {
     "name": "stdout",
     "output_type": "stream",
     "text": [
      "Train: [5][20/140]\t\n",
      "Train: [5][40/140]\t\n",
      "Train: [5][60/140]\t\n",
      "Train: [5][80/140]\t\n",
      "Train: [5][100/140]\t\n",
      "Train: [5][120/140]\t\n",
      "Train: [5][140/140]\t\n",
      "Training Accuracy: 74.19%\n",
      "Training loss: 0.510166434101204\n",
      "Validation accuracy: 71.80272108843538 %\n",
      "Validation F1: 0.47096226839283073\n",
      "==> Saving...\n"
     ]
    },
    {
     "name": "stderr",
     "output_type": "stream",
     "text": [
      "/opt/conda/lib/python3.10/site-packages/torch/utils/data/dataloader.py:561: UserWarning: This DataLoader will create 8 worker processes in total. Our suggested max number of worker in current system is 2, which is smaller than what this DataLoader is going to create. Please be aware that excessive worker creation might get DataLoader running slow or even freeze, lower the worker number to avoid potential slowness/freeze if necessary.\n",
      "  warnings.warn(_create_warning_msg(\n"
     ]
    },
    {
     "name": "stdout",
     "output_type": "stream",
     "text": [
      "Train: [6][20/140]\t\n",
      "Train: [6][40/140]\t\n",
      "Train: [6][60/140]\t\n",
      "Train: [6][80/140]\t\n",
      "Train: [6][100/140]\t\n",
      "Train: [6][120/140]\t\n",
      "Train: [6][140/140]\t\n",
      "Training Accuracy: 75.24%\n",
      "Training loss: 0.4976583329998717\n",
      "Validation accuracy: 74.18367346938776 %\n",
      "Validation F1: 0.4321377712305326\n"
     ]
    },
    {
     "name": "stderr",
     "output_type": "stream",
     "text": [
      "/opt/conda/lib/python3.10/site-packages/torch/utils/data/dataloader.py:561: UserWarning: This DataLoader will create 8 worker processes in total. Our suggested max number of worker in current system is 2, which is smaller than what this DataLoader is going to create. Please be aware that excessive worker creation might get DataLoader running slow or even freeze, lower the worker number to avoid potential slowness/freeze if necessary.\n",
      "  warnings.warn(_create_warning_msg(\n"
     ]
    },
    {
     "name": "stdout",
     "output_type": "stream",
     "text": [
      "Train: [7][20/140]\t\n",
      "Train: [7][40/140]\t\n",
      "Train: [7][60/140]\t\n",
      "Train: [7][80/140]\t\n",
      "Train: [7][100/140]\t\n",
      "Train: [7][120/140]\t\n",
      "Train: [7][140/140]\t\n",
      "Training Accuracy: 75.97%\n",
      "Training loss: 0.4855422865157439\n",
      "Validation accuracy: 71.05442176870748 %\n",
      "Validation F1: 0.40679553171680355\n"
     ]
    },
    {
     "name": "stderr",
     "output_type": "stream",
     "text": [
      "/opt/conda/lib/python3.10/site-packages/torch/utils/data/dataloader.py:561: UserWarning: This DataLoader will create 8 worker processes in total. Our suggested max number of worker in current system is 2, which is smaller than what this DataLoader is going to create. Please be aware that excessive worker creation might get DataLoader running slow or even freeze, lower the worker number to avoid potential slowness/freeze if necessary.\n",
      "  warnings.warn(_create_warning_msg(\n"
     ]
    },
    {
     "name": "stdout",
     "output_type": "stream",
     "text": [
      "Train: [8][20/140]\t\n",
      "Train: [8][40/140]\t\n",
      "Train: [8][60/140]\t\n",
      "Train: [8][80/140]\t\n",
      "Train: [8][100/140]\t\n",
      "Train: [8][120/140]\t\n",
      "Train: [8][140/140]\t\n",
      "Training Accuracy: 76.49%\n",
      "Training loss: 0.4813490687771532\n",
      "Validation accuracy: 73.94557823129252 %\n",
      "Validation F1: 0.443825582358454\n"
     ]
    },
    {
     "name": "stderr",
     "output_type": "stream",
     "text": [
      "/opt/conda/lib/python3.10/site-packages/torch/utils/data/dataloader.py:561: UserWarning: This DataLoader will create 8 worker processes in total. Our suggested max number of worker in current system is 2, which is smaller than what this DataLoader is going to create. Please be aware that excessive worker creation might get DataLoader running slow or even freeze, lower the worker number to avoid potential slowness/freeze if necessary.\n",
      "  warnings.warn(_create_warning_msg(\n"
     ]
    },
    {
     "name": "stdout",
     "output_type": "stream",
     "text": [
      "Train: [9][20/140]\t\n",
      "Train: [9][40/140]\t\n",
      "Train: [9][60/140]\t\n",
      "Train: [9][80/140]\t\n",
      "Train: [9][100/140]\t\n",
      "Train: [9][120/140]\t\n",
      "Train: [9][140/140]\t\n",
      "Training Accuracy: 77.10%\n",
      "Training loss: 0.47375802105252157\n",
      "Validation accuracy: 71.9047619047619 %\n",
      "Validation F1: 0.4343080524142862\n"
     ]
    },
    {
     "name": "stderr",
     "output_type": "stream",
     "text": [
      "/opt/conda/lib/python3.10/site-packages/torch/utils/data/dataloader.py:561: UserWarning: This DataLoader will create 8 worker processes in total. Our suggested max number of worker in current system is 2, which is smaller than what this DataLoader is going to create. Please be aware that excessive worker creation might get DataLoader running slow or even freeze, lower the worker number to avoid potential slowness/freeze if necessary.\n",
      "  warnings.warn(_create_warning_msg(\n"
     ]
    },
    {
     "name": "stdout",
     "output_type": "stream",
     "text": [
      "Train: [10][20/140]\t\n",
      "Train: [10][40/140]\t\n",
      "Train: [10][60/140]\t\n",
      "Train: [10][80/140]\t\n",
      "Train: [10][100/140]\t\n",
      "Train: [10][120/140]\t\n",
      "Train: [10][140/140]\t\n",
      "Training Accuracy: 77.14%\n",
      "Training loss: 0.47377486005976854\n",
      "Validation accuracy: 73.09523809523809 %\n",
      "Validation F1: 0.44639479095961504\n",
      "==> Saving...\n"
     ]
    },
    {
     "name": "stderr",
     "output_type": "stream",
     "text": [
      "/opt/conda/lib/python3.10/site-packages/torch/utils/data/dataloader.py:561: UserWarning: This DataLoader will create 8 worker processes in total. Our suggested max number of worker in current system is 2, which is smaller than what this DataLoader is going to create. Please be aware that excessive worker creation might get DataLoader running slow or even freeze, lower the worker number to avoid potential slowness/freeze if necessary.\n",
      "  warnings.warn(_create_warning_msg(\n"
     ]
    },
    {
     "name": "stdout",
     "output_type": "stream",
     "text": [
      "Train: [11][20/140]\t\n",
      "Train: [11][40/140]\t\n",
      "Train: [11][60/140]\t\n",
      "Train: [11][80/140]\t\n",
      "Train: [11][100/140]\t\n",
      "Train: [11][120/140]\t\n",
      "Train: [11][140/140]\t\n",
      "Training Accuracy: 77.52%\n",
      "Training loss: 0.467260057267439\n",
      "Validation accuracy: 76.08843537414965 %\n",
      "Validation F1: 0.41779870852433154\n"
     ]
    },
    {
     "name": "stderr",
     "output_type": "stream",
     "text": [
      "/opt/conda/lib/python3.10/site-packages/torch/utils/data/dataloader.py:561: UserWarning: This DataLoader will create 8 worker processes in total. Our suggested max number of worker in current system is 2, which is smaller than what this DataLoader is going to create. Please be aware that excessive worker creation might get DataLoader running slow or even freeze, lower the worker number to avoid potential slowness/freeze if necessary.\n",
      "  warnings.warn(_create_warning_msg(\n"
     ]
    },
    {
     "name": "stdout",
     "output_type": "stream",
     "text": [
      "Train: [12][20/140]\t\n",
      "Train: [12][40/140]\t\n",
      "Train: [12][60/140]\t\n",
      "Train: [12][80/140]\t\n",
      "Train: [12][100/140]\t\n",
      "Train: [12][120/140]\t\n",
      "Train: [12][140/140]\t\n",
      "Training Accuracy: 77.84%\n",
      "Training loss: 0.46157526778757746\n",
      "Validation accuracy: 72.75510204081633 %\n",
      "Validation F1: 0.43939928027878933\n"
     ]
    },
    {
     "name": "stderr",
     "output_type": "stream",
     "text": [
      "/opt/conda/lib/python3.10/site-packages/torch/utils/data/dataloader.py:561: UserWarning: This DataLoader will create 8 worker processes in total. Our suggested max number of worker in current system is 2, which is smaller than what this DataLoader is going to create. Please be aware that excessive worker creation might get DataLoader running slow or even freeze, lower the worker number to avoid potential slowness/freeze if necessary.\n",
      "  warnings.warn(_create_warning_msg(\n"
     ]
    },
    {
     "name": "stdout",
     "output_type": "stream",
     "text": [
      "Train: [13][20/140]\t\n",
      "Train: [13][40/140]\t\n",
      "Train: [13][60/140]\t\n",
      "Train: [13][80/140]\t\n",
      "Train: [13][100/140]\t\n",
      "Train: [13][120/140]\t\n",
      "Train: [13][140/140]\t\n",
      "Training Accuracy: 78.21%\n",
      "Training loss: 0.45841233143894144\n",
      "Validation accuracy: 74.5578231292517 %\n",
      "Validation F1: 0.47201247729618984\n"
     ]
    },
    {
     "name": "stderr",
     "output_type": "stream",
     "text": [
      "/opt/conda/lib/python3.10/site-packages/torch/utils/data/dataloader.py:561: UserWarning: This DataLoader will create 8 worker processes in total. Our suggested max number of worker in current system is 2, which is smaller than what this DataLoader is going to create. Please be aware that excessive worker creation might get DataLoader running slow or even freeze, lower the worker number to avoid potential slowness/freeze if necessary.\n",
      "  warnings.warn(_create_warning_msg(\n"
     ]
    },
    {
     "name": "stdout",
     "output_type": "stream",
     "text": [
      "Train: [14][20/140]\t\n",
      "Train: [14][40/140]\t\n",
      "Train: [14][60/140]\t\n",
      "Train: [14][80/140]\t\n",
      "Train: [14][100/140]\t\n",
      "Train: [14][120/140]\t\n",
      "Train: [14][140/140]\t\n",
      "Training Accuracy: 78.30%\n",
      "Training loss: 0.455155222585421\n",
      "Validation accuracy: 68.5374149659864 %\n",
      "Validation F1: 0.38129064829123566\n"
     ]
    },
    {
     "name": "stderr",
     "output_type": "stream",
     "text": [
      "/opt/conda/lib/python3.10/site-packages/torch/utils/data/dataloader.py:561: UserWarning: This DataLoader will create 8 worker processes in total. Our suggested max number of worker in current system is 2, which is smaller than what this DataLoader is going to create. Please be aware that excessive worker creation might get DataLoader running slow or even freeze, lower the worker number to avoid potential slowness/freeze if necessary.\n",
      "  warnings.warn(_create_warning_msg(\n"
     ]
    },
    {
     "name": "stdout",
     "output_type": "stream",
     "text": [
      "Train: [15][20/140]\t\n",
      "Train: [15][40/140]\t\n",
      "Train: [15][60/140]\t\n",
      "Train: [15][80/140]\t\n",
      "Train: [15][100/140]\t\n",
      "Train: [15][120/140]\t\n",
      "Train: [15][140/140]\t\n",
      "Training Accuracy: 78.33%\n",
      "Training loss: 0.45217825161231745\n",
      "Validation accuracy: 63.60544217687075 %\n",
      "Validation F1: 0.39019076066000924\n",
      "==> Saving...\n"
     ]
    },
    {
     "name": "stderr",
     "output_type": "stream",
     "text": [
      "/opt/conda/lib/python3.10/site-packages/torch/utils/data/dataloader.py:561: UserWarning: This DataLoader will create 8 worker processes in total. Our suggested max number of worker in current system is 2, which is smaller than what this DataLoader is going to create. Please be aware that excessive worker creation might get DataLoader running slow or even freeze, lower the worker number to avoid potential slowness/freeze if necessary.\n",
      "  warnings.warn(_create_warning_msg(\n"
     ]
    },
    {
     "name": "stdout",
     "output_type": "stream",
     "text": [
      "Train: [16][20/140]\t\n",
      "Train: [16][40/140]\t\n",
      "Train: [16][60/140]\t\n",
      "Train: [16][80/140]\t\n",
      "Train: [16][100/140]\t\n",
      "Train: [16][120/140]\t\n",
      "Train: [16][140/140]\t\n",
      "Training Accuracy: 78.62%\n",
      "Training loss: 0.44812427109254\n",
      "Validation accuracy: 75.61224489795919 %\n",
      "Validation F1: 0.4468288018155675\n"
     ]
    },
    {
     "name": "stderr",
     "output_type": "stream",
     "text": [
      "/opt/conda/lib/python3.10/site-packages/torch/utils/data/dataloader.py:561: UserWarning: This DataLoader will create 8 worker processes in total. Our suggested max number of worker in current system is 2, which is smaller than what this DataLoader is going to create. Please be aware that excessive worker creation might get DataLoader running slow or even freeze, lower the worker number to avoid potential slowness/freeze if necessary.\n",
      "  warnings.warn(_create_warning_msg(\n"
     ]
    },
    {
     "name": "stdout",
     "output_type": "stream",
     "text": [
      "Train: [17][20/140]\t\n",
      "Train: [17][40/140]\t\n",
      "Train: [17][60/140]\t\n",
      "Train: [17][80/140]\t\n",
      "Train: [17][100/140]\t\n",
      "Train: [17][120/140]\t\n",
      "Train: [17][140/140]\t\n",
      "Training Accuracy: 78.88%\n",
      "Training loss: 0.4453312114673122\n",
      "Validation accuracy: 74.89795918367346 %\n",
      "Validation F1: 0.46164935165591364\n"
     ]
    },
    {
     "name": "stderr",
     "output_type": "stream",
     "text": [
      "/opt/conda/lib/python3.10/site-packages/torch/utils/data/dataloader.py:561: UserWarning: This DataLoader will create 8 worker processes in total. Our suggested max number of worker in current system is 2, which is smaller than what this DataLoader is going to create. Please be aware that excessive worker creation might get DataLoader running slow or even freeze, lower the worker number to avoid potential slowness/freeze if necessary.\n",
      "  warnings.warn(_create_warning_msg(\n"
     ]
    },
    {
     "name": "stdout",
     "output_type": "stream",
     "text": [
      "Train: [18][20/140]\t\n",
      "Train: [18][40/140]\t\n",
      "Train: [18][60/140]\t\n",
      "Train: [18][80/140]\t\n",
      "Train: [18][100/140]\t\n",
      "Train: [18][120/140]\t\n",
      "Train: [18][140/140]\t\n",
      "Training Accuracy: 78.79%\n",
      "Training loss: 0.4431804190518263\n",
      "Validation accuracy: 70.68027210884354 %\n",
      "Validation F1: 0.4200576621596657\n"
     ]
    },
    {
     "name": "stderr",
     "output_type": "stream",
     "text": [
      "/opt/conda/lib/python3.10/site-packages/torch/utils/data/dataloader.py:561: UserWarning: This DataLoader will create 8 worker processes in total. Our suggested max number of worker in current system is 2, which is smaller than what this DataLoader is going to create. Please be aware that excessive worker creation might get DataLoader running slow or even freeze, lower the worker number to avoid potential slowness/freeze if necessary.\n",
      "  warnings.warn(_create_warning_msg(\n"
     ]
    },
    {
     "name": "stdout",
     "output_type": "stream",
     "text": [
      "Train: [19][20/140]\t\n",
      "Train: [19][40/140]\t\n",
      "Train: [19][60/140]\t\n",
      "Train: [19][80/140]\t\n",
      "Train: [19][100/140]\t\n",
      "Train: [19][120/140]\t\n",
      "Train: [19][140/140]\t\n",
      "Training Accuracy: 78.91%\n",
      "Training loss: 0.44349077623984984\n",
      "Validation accuracy: 75.47619047619048 %\n",
      "Validation F1: 0.45948568630299863\n"
     ]
    },
    {
     "name": "stderr",
     "output_type": "stream",
     "text": [
      "/opt/conda/lib/python3.10/site-packages/torch/utils/data/dataloader.py:561: UserWarning: This DataLoader will create 8 worker processes in total. Our suggested max number of worker in current system is 2, which is smaller than what this DataLoader is going to create. Please be aware that excessive worker creation might get DataLoader running slow or even freeze, lower the worker number to avoid potential slowness/freeze if necessary.\n",
      "  warnings.warn(_create_warning_msg(\n"
     ]
    },
    {
     "name": "stdout",
     "output_type": "stream",
     "text": [
      "Train: [20][20/140]\t\n",
      "Train: [20][40/140]\t\n",
      "Train: [20][60/140]\t\n",
      "Train: [20][80/140]\t\n",
      "Train: [20][100/140]\t\n",
      "Train: [20][120/140]\t\n",
      "Train: [20][140/140]\t\n",
      "Training Accuracy: 79.07%\n",
      "Training loss: 0.4420582216185394\n",
      "Validation accuracy: 75.40816326530613 %\n",
      "Validation F1: 0.45543476475056316\n",
      "==> Saving...\n"
     ]
    },
    {
     "name": "stderr",
     "output_type": "stream",
     "text": [
      "/opt/conda/lib/python3.10/site-packages/torch/utils/data/dataloader.py:561: UserWarning: This DataLoader will create 8 worker processes in total. Our suggested max number of worker in current system is 2, which is smaller than what this DataLoader is going to create. Please be aware that excessive worker creation might get DataLoader running slow or even freeze, lower the worker number to avoid potential slowness/freeze if necessary.\n",
      "  warnings.warn(_create_warning_msg(\n"
     ]
    },
    {
     "name": "stdout",
     "output_type": "stream",
     "text": [
      "Train: [21][20/140]\t\n",
      "Train: [21][40/140]\t\n",
      "Train: [21][60/140]\t\n",
      "Train: [21][80/140]\t\n",
      "Train: [21][100/140]\t\n",
      "Train: [21][120/140]\t\n",
      "Train: [21][140/140]\t\n",
      "Training Accuracy: 79.15%\n",
      "Training loss: 0.4347940535322383\n",
      "Validation accuracy: 69.93197278911565 %\n",
      "Validation F1: 0.43559538135785747\n"
     ]
    },
    {
     "name": "stderr",
     "output_type": "stream",
     "text": [
      "/opt/conda/lib/python3.10/site-packages/torch/utils/data/dataloader.py:561: UserWarning: This DataLoader will create 8 worker processes in total. Our suggested max number of worker in current system is 2, which is smaller than what this DataLoader is going to create. Please be aware that excessive worker creation might get DataLoader running slow or even freeze, lower the worker number to avoid potential slowness/freeze if necessary.\n",
      "  warnings.warn(_create_warning_msg(\n"
     ]
    },
    {
     "name": "stdout",
     "output_type": "stream",
     "text": [
      "Train: [22][20/140]\t\n",
      "Train: [22][40/140]\t\n",
      "Train: [22][60/140]\t\n",
      "Train: [22][80/140]\t\n",
      "Train: [22][100/140]\t\n",
      "Train: [22][120/140]\t\n",
      "Train: [22][140/140]\t\n",
      "Training Accuracy: 79.28%\n",
      "Training loss: 0.43783060256930634\n",
      "Validation accuracy: 75.81632653061224 %\n",
      "Validation F1: 0.44269584026274417\n"
     ]
    },
    {
     "name": "stderr",
     "output_type": "stream",
     "text": [
      "/opt/conda/lib/python3.10/site-packages/torch/utils/data/dataloader.py:561: UserWarning: This DataLoader will create 8 worker processes in total. Our suggested max number of worker in current system is 2, which is smaller than what this DataLoader is going to create. Please be aware that excessive worker creation might get DataLoader running slow or even freeze, lower the worker number to avoid potential slowness/freeze if necessary.\n",
      "  warnings.warn(_create_warning_msg(\n"
     ]
    },
    {
     "name": "stdout",
     "output_type": "stream",
     "text": [
      "Train: [23][20/140]\t\n",
      "Train: [23][40/140]\t\n",
      "Train: [23][60/140]\t\n",
      "Train: [23][80/140]\t\n",
      "Train: [23][100/140]\t\n",
      "Train: [23][120/140]\t\n",
      "Train: [23][140/140]\t\n",
      "Training Accuracy: 79.50%\n",
      "Training loss: 0.4369030064613088\n",
      "Validation accuracy: 75.0 %\n",
      "Validation F1: 0.45299272690519765\n"
     ]
    },
    {
     "name": "stderr",
     "output_type": "stream",
     "text": [
      "/opt/conda/lib/python3.10/site-packages/torch/utils/data/dataloader.py:561: UserWarning: This DataLoader will create 8 worker processes in total. Our suggested max number of worker in current system is 2, which is smaller than what this DataLoader is going to create. Please be aware that excessive worker creation might get DataLoader running slow or even freeze, lower the worker number to avoid potential slowness/freeze if necessary.\n",
      "  warnings.warn(_create_warning_msg(\n"
     ]
    },
    {
     "name": "stdout",
     "output_type": "stream",
     "text": [
      "Train: [24][20/140]\t\n",
      "Train: [24][40/140]\t\n",
      "Train: [24][60/140]\t\n",
      "Train: [24][80/140]\t\n",
      "Train: [24][100/140]\t\n",
      "Train: [24][120/140]\t\n",
      "Train: [24][140/140]\t\n",
      "Training Accuracy: 79.50%\n",
      "Training loss: 0.43287752982772876\n",
      "Validation accuracy: 71.22448979591837 %\n",
      "Validation F1: 0.47043157073460345\n"
     ]
    },
    {
     "name": "stderr",
     "output_type": "stream",
     "text": [
      "/opt/conda/lib/python3.10/site-packages/torch/utils/data/dataloader.py:561: UserWarning: This DataLoader will create 8 worker processes in total. Our suggested max number of worker in current system is 2, which is smaller than what this DataLoader is going to create. Please be aware that excessive worker creation might get DataLoader running slow or even freeze, lower the worker number to avoid potential slowness/freeze if necessary.\n",
      "  warnings.warn(_create_warning_msg(\n"
     ]
    },
    {
     "name": "stdout",
     "output_type": "stream",
     "text": [
      "Train: [25][20/140]\t\n",
      "Train: [25][40/140]\t\n",
      "Train: [25][60/140]\t\n",
      "Train: [25][80/140]\t\n",
      "Train: [25][100/140]\t\n",
      "Train: [25][120/140]\t\n",
      "Train: [25][140/140]\t\n",
      "Training Accuracy: 79.84%\n",
      "Training loss: 0.429634424115703\n",
      "Validation accuracy: 75.8843537414966 %\n",
      "Validation F1: 0.4754321564347433\n",
      "==> Saving...\n"
     ]
    },
    {
     "name": "stderr",
     "output_type": "stream",
     "text": [
      "/opt/conda/lib/python3.10/site-packages/torch/utils/data/dataloader.py:561: UserWarning: This DataLoader will create 8 worker processes in total. Our suggested max number of worker in current system is 2, which is smaller than what this DataLoader is going to create. Please be aware that excessive worker creation might get DataLoader running slow or even freeze, lower the worker number to avoid potential slowness/freeze if necessary.\n",
      "  warnings.warn(_create_warning_msg(\n"
     ]
    },
    {
     "name": "stdout",
     "output_type": "stream",
     "text": [
      "Train: [26][20/140]\t\n",
      "Train: [26][40/140]\t\n",
      "Train: [26][60/140]\t\n",
      "Train: [26][80/140]\t\n",
      "Train: [26][100/140]\t\n",
      "Train: [26][120/140]\t\n",
      "Train: [26][140/140]\t\n",
      "Training Accuracy: 80.05%\n",
      "Training loss: 0.42387202810508623\n",
      "Validation accuracy: 74.76190476190476 %\n",
      "Validation F1: 0.4665447350592013\n"
     ]
    },
    {
     "name": "stderr",
     "output_type": "stream",
     "text": [
      "/opt/conda/lib/python3.10/site-packages/torch/utils/data/dataloader.py:561: UserWarning: This DataLoader will create 8 worker processes in total. Our suggested max number of worker in current system is 2, which is smaller than what this DataLoader is going to create. Please be aware that excessive worker creation might get DataLoader running slow or even freeze, lower the worker number to avoid potential slowness/freeze if necessary.\n",
      "  warnings.warn(_create_warning_msg(\n"
     ]
    },
    {
     "name": "stdout",
     "output_type": "stream",
     "text": [
      "Train: [27][20/140]\t\n",
      "Train: [27][40/140]\t\n",
      "Train: [27][60/140]\t\n",
      "Train: [27][80/140]\t\n",
      "Train: [27][100/140]\t\n",
      "Train: [27][120/140]\t\n",
      "Train: [27][140/140]\t\n",
      "Training Accuracy: 79.88%\n",
      "Training loss: 0.4265674903644631\n",
      "Validation accuracy: 75.95238095238095 %\n",
      "Validation F1: 0.47697203649025455\n"
     ]
    },
    {
     "name": "stderr",
     "output_type": "stream",
     "text": [
      "/opt/conda/lib/python3.10/site-packages/torch/utils/data/dataloader.py:561: UserWarning: This DataLoader will create 8 worker processes in total. Our suggested max number of worker in current system is 2, which is smaller than what this DataLoader is going to create. Please be aware that excessive worker creation might get DataLoader running slow or even freeze, lower the worker number to avoid potential slowness/freeze if necessary.\n",
      "  warnings.warn(_create_warning_msg(\n"
     ]
    },
    {
     "name": "stdout",
     "output_type": "stream",
     "text": [
      "Train: [28][20/140]\t\n",
      "Train: [28][40/140]\t\n",
      "Train: [28][60/140]\t\n",
      "Train: [28][80/140]\t\n",
      "Train: [28][100/140]\t\n",
      "Train: [28][120/140]\t\n",
      "Train: [28][140/140]\t\n",
      "Training Accuracy: 80.06%\n",
      "Training loss: 0.4232631164044643\n",
      "Validation accuracy: 72.82312925170068 %\n",
      "Validation F1: 0.48767126942926486\n"
     ]
    },
    {
     "name": "stderr",
     "output_type": "stream",
     "text": [
      "/opt/conda/lib/python3.10/site-packages/torch/utils/data/dataloader.py:561: UserWarning: This DataLoader will create 8 worker processes in total. Our suggested max number of worker in current system is 2, which is smaller than what this DataLoader is going to create. Please be aware that excessive worker creation might get DataLoader running slow or even freeze, lower the worker number to avoid potential slowness/freeze if necessary.\n",
      "  warnings.warn(_create_warning_msg(\n"
     ]
    },
    {
     "name": "stdout",
     "output_type": "stream",
     "text": [
      "Train: [29][20/140]\t\n",
      "Train: [29][40/140]\t\n",
      "Train: [29][60/140]\t\n",
      "Train: [29][80/140]\t\n",
      "Train: [29][100/140]\t\n",
      "Train: [29][120/140]\t\n",
      "Train: [29][140/140]\t\n",
      "Training Accuracy: 80.05%\n",
      "Training loss: 0.4233153026169206\n",
      "Validation accuracy: 72.27891156462584 %\n",
      "Validation F1: 0.4532231678885248\n"
     ]
    },
    {
     "name": "stderr",
     "output_type": "stream",
     "text": [
      "/opt/conda/lib/python3.10/site-packages/torch/utils/data/dataloader.py:561: UserWarning: This DataLoader will create 8 worker processes in total. Our suggested max number of worker in current system is 2, which is smaller than what this DataLoader is going to create. Please be aware that excessive worker creation might get DataLoader running slow or even freeze, lower the worker number to avoid potential slowness/freeze if necessary.\n",
      "  warnings.warn(_create_warning_msg(\n"
     ]
    },
    {
     "name": "stdout",
     "output_type": "stream",
     "text": [
      "Train: [30][20/140]\t\n",
      "Train: [30][40/140]\t\n",
      "Train: [30][60/140]\t\n",
      "Train: [30][80/140]\t\n",
      "Train: [30][100/140]\t\n",
      "Train: [30][120/140]\t\n",
      "Train: [30][140/140]\t\n",
      "Training Accuracy: 80.19%\n",
      "Training loss: 0.4208518620910439\n",
      "Validation accuracy: 76.56462585034014 %\n",
      "Validation F1: 0.48104936693462896\n",
      "==> Saving...\n"
     ]
    },
    {
     "name": "stderr",
     "output_type": "stream",
     "text": [
      "/opt/conda/lib/python3.10/site-packages/torch/utils/data/dataloader.py:561: UserWarning: This DataLoader will create 8 worker processes in total. Our suggested max number of worker in current system is 2, which is smaller than what this DataLoader is going to create. Please be aware that excessive worker creation might get DataLoader running slow or even freeze, lower the worker number to avoid potential slowness/freeze if necessary.\n",
      "  warnings.warn(_create_warning_msg(\n"
     ]
    },
    {
     "name": "stdout",
     "output_type": "stream",
     "text": [
      "Train: [31][20/140]\t\n",
      "Train: [31][40/140]\t\n",
      "Train: [31][60/140]\t\n",
      "Train: [31][80/140]\t\n",
      "Train: [31][100/140]\t\n",
      "Train: [31][120/140]\t\n",
      "Train: [31][140/140]\t\n",
      "Training Accuracy: 80.39%\n",
      "Training loss: 0.4209429515760879\n",
      "Validation accuracy: 76.66666666666667 %\n",
      "Validation F1: 0.47383661595377063\n"
     ]
    },
    {
     "name": "stderr",
     "output_type": "stream",
     "text": [
      "/opt/conda/lib/python3.10/site-packages/torch/utils/data/dataloader.py:561: UserWarning: This DataLoader will create 8 worker processes in total. Our suggested max number of worker in current system is 2, which is smaller than what this DataLoader is going to create. Please be aware that excessive worker creation might get DataLoader running slow or even freeze, lower the worker number to avoid potential slowness/freeze if necessary.\n",
      "  warnings.warn(_create_warning_msg(\n"
     ]
    },
    {
     "name": "stdout",
     "output_type": "stream",
     "text": [
      "Train: [32][20/140]\t\n",
      "Train: [32][40/140]\t\n",
      "Train: [32][60/140]\t\n",
      "Train: [32][80/140]\t\n",
      "Train: [32][100/140]\t\n",
      "Train: [32][120/140]\t\n",
      "Train: [32][140/140]\t\n",
      "Training Accuracy: 80.39%\n",
      "Training loss: 0.41886032814\n",
      "Validation accuracy: 74.8639455782313 %\n",
      "Validation F1: 0.4696920157475329\n"
     ]
    },
    {
     "name": "stderr",
     "output_type": "stream",
     "text": [
      "/opt/conda/lib/python3.10/site-packages/torch/utils/data/dataloader.py:561: UserWarning: This DataLoader will create 8 worker processes in total. Our suggested max number of worker in current system is 2, which is smaller than what this DataLoader is going to create. Please be aware that excessive worker creation might get DataLoader running slow or even freeze, lower the worker number to avoid potential slowness/freeze if necessary.\n",
      "  warnings.warn(_create_warning_msg(\n"
     ]
    },
    {
     "name": "stdout",
     "output_type": "stream",
     "text": [
      "Train: [33][20/140]\t\n",
      "Train: [33][40/140]\t\n",
      "Train: [33][60/140]\t\n",
      "Train: [33][80/140]\t\n",
      "Train: [33][100/140]\t\n",
      "Train: [33][120/140]\t\n",
      "Train: [33][140/140]\t\n",
      "Training Accuracy: 80.42%\n",
      "Training loss: 0.4155178590790256\n",
      "Validation accuracy: 75.40816326530613 %\n",
      "Validation F1: 0.4912664107634306\n"
     ]
    },
    {
     "name": "stderr",
     "output_type": "stream",
     "text": [
      "/opt/conda/lib/python3.10/site-packages/torch/utils/data/dataloader.py:561: UserWarning: This DataLoader will create 8 worker processes in total. Our suggested max number of worker in current system is 2, which is smaller than what this DataLoader is going to create. Please be aware that excessive worker creation might get DataLoader running slow or even freeze, lower the worker number to avoid potential slowness/freeze if necessary.\n",
      "  warnings.warn(_create_warning_msg(\n"
     ]
    },
    {
     "name": "stdout",
     "output_type": "stream",
     "text": [
      "Train: [34][20/140]\t\n",
      "Train: [34][40/140]\t\n",
      "Train: [34][60/140]\t\n",
      "Train: [34][80/140]\t\n",
      "Train: [34][100/140]\t\n",
      "Train: [34][120/140]\t\n",
      "Train: [34][140/140]\t\n",
      "Training Accuracy: 80.41%\n",
      "Training loss: 0.416317198971083\n",
      "Validation accuracy: 74.8639455782313 %\n",
      "Validation F1: 0.48646998819149306\n"
     ]
    },
    {
     "name": "stderr",
     "output_type": "stream",
     "text": [
      "/opt/conda/lib/python3.10/site-packages/torch/utils/data/dataloader.py:561: UserWarning: This DataLoader will create 8 worker processes in total. Our suggested max number of worker in current system is 2, which is smaller than what this DataLoader is going to create. Please be aware that excessive worker creation might get DataLoader running slow or even freeze, lower the worker number to avoid potential slowness/freeze if necessary.\n",
      "  warnings.warn(_create_warning_msg(\n"
     ]
    },
    {
     "name": "stdout",
     "output_type": "stream",
     "text": [
      "Train: [35][20/140]\t\n",
      "Train: [35][40/140]\t\n",
      "Train: [35][60/140]\t\n",
      "Train: [35][80/140]\t\n",
      "Train: [35][100/140]\t\n",
      "Train: [35][120/140]\t\n",
      "Train: [35][140/140]\t\n",
      "Training Accuracy: 80.58%\n",
      "Training loss: 0.41364193786070147\n",
      "Validation accuracy: 75.27210884353741 %\n",
      "Validation F1: 0.4802306677985735\n",
      "==> Saving...\n"
     ]
    },
    {
     "name": "stderr",
     "output_type": "stream",
     "text": [
      "/opt/conda/lib/python3.10/site-packages/torch/utils/data/dataloader.py:561: UserWarning: This DataLoader will create 8 worker processes in total. Our suggested max number of worker in current system is 2, which is smaller than what this DataLoader is going to create. Please be aware that excessive worker creation might get DataLoader running slow or even freeze, lower the worker number to avoid potential slowness/freeze if necessary.\n",
      "  warnings.warn(_create_warning_msg(\n"
     ]
    },
    {
     "name": "stdout",
     "output_type": "stream",
     "text": [
      "Train: [36][20/140]\t\n",
      "Train: [36][40/140]\t\n",
      "Train: [36][60/140]\t\n",
      "Train: [36][80/140]\t\n",
      "Train: [36][100/140]\t\n",
      "Train: [36][120/140]\t\n",
      "Train: [36][140/140]\t\n",
      "Training Accuracy: 80.69%\n",
      "Training loss: 0.4136474493253549\n",
      "Validation accuracy: 76.25850340136054 %\n",
      "Validation F1: 0.49653369734596103\n"
     ]
    },
    {
     "name": "stderr",
     "output_type": "stream",
     "text": [
      "/opt/conda/lib/python3.10/site-packages/torch/utils/data/dataloader.py:561: UserWarning: This DataLoader will create 8 worker processes in total. Our suggested max number of worker in current system is 2, which is smaller than what this DataLoader is going to create. Please be aware that excessive worker creation might get DataLoader running slow or even freeze, lower the worker number to avoid potential slowness/freeze if necessary.\n",
      "  warnings.warn(_create_warning_msg(\n"
     ]
    },
    {
     "name": "stdout",
     "output_type": "stream",
     "text": [
      "Train: [37][20/140]\t\n",
      "Train: [37][40/140]\t\n",
      "Train: [37][60/140]\t\n",
      "Train: [37][80/140]\t\n",
      "Train: [37][100/140]\t\n",
      "Train: [37][120/140]\t\n",
      "Train: [37][140/140]\t\n",
      "Training Accuracy: 80.84%\n",
      "Training loss: 0.4107485470228544\n",
      "Validation accuracy: 76.73469387755102 %\n",
      "Validation F1: 0.4985997610953634\n"
     ]
    },
    {
     "name": "stderr",
     "output_type": "stream",
     "text": [
      "/opt/conda/lib/python3.10/site-packages/torch/utils/data/dataloader.py:561: UserWarning: This DataLoader will create 8 worker processes in total. Our suggested max number of worker in current system is 2, which is smaller than what this DataLoader is going to create. Please be aware that excessive worker creation might get DataLoader running slow or even freeze, lower the worker number to avoid potential slowness/freeze if necessary.\n",
      "  warnings.warn(_create_warning_msg(\n"
     ]
    },
    {
     "name": "stdout",
     "output_type": "stream",
     "text": [
      "Train: [38][20/140]\t\n",
      "Train: [38][40/140]\t\n",
      "Train: [38][60/140]\t\n",
      "Train: [38][80/140]\t\n",
      "Train: [38][100/140]\t\n",
      "Train: [38][120/140]\t\n",
      "Train: [38][140/140]\t\n",
      "Training Accuracy: 81.04%\n",
      "Training loss: 0.4076520371167054\n",
      "Validation accuracy: 74.96598639455783 %\n",
      "Validation F1: 0.5225455410929206\n"
     ]
    },
    {
     "name": "stderr",
     "output_type": "stream",
     "text": [
      "/opt/conda/lib/python3.10/site-packages/torch/utils/data/dataloader.py:561: UserWarning: This DataLoader will create 8 worker processes in total. Our suggested max number of worker in current system is 2, which is smaller than what this DataLoader is going to create. Please be aware that excessive worker creation might get DataLoader running slow or even freeze, lower the worker number to avoid potential slowness/freeze if necessary.\n",
      "  warnings.warn(_create_warning_msg(\n"
     ]
    },
    {
     "name": "stdout",
     "output_type": "stream",
     "text": [
      "Train: [39][20/140]\t\n",
      "Train: [39][40/140]\t\n",
      "Train: [39][60/140]\t\n",
      "Train: [39][80/140]\t\n",
      "Train: [39][100/140]\t\n",
      "Train: [39][120/140]\t\n",
      "Train: [39][140/140]\t\n",
      "Training Accuracy: 81.20%\n",
      "Training loss: 0.4066216184382322\n",
      "Validation accuracy: 77.07482993197279 %\n",
      "Validation F1: 0.4761295266742353\n"
     ]
    },
    {
     "name": "stderr",
     "output_type": "stream",
     "text": [
      "/opt/conda/lib/python3.10/site-packages/torch/utils/data/dataloader.py:561: UserWarning: This DataLoader will create 8 worker processes in total. Our suggested max number of worker in current system is 2, which is smaller than what this DataLoader is going to create. Please be aware that excessive worker creation might get DataLoader running slow or even freeze, lower the worker number to avoid potential slowness/freeze if necessary.\n",
      "  warnings.warn(_create_warning_msg(\n"
     ]
    },
    {
     "name": "stdout",
     "output_type": "stream",
     "text": [
      "Train: [40][20/140]\t\n",
      "Train: [40][40/140]\t\n",
      "Train: [40][60/140]\t\n",
      "Train: [40][80/140]\t\n",
      "Train: [40][100/140]\t\n",
      "Train: [40][120/140]\t\n",
      "Train: [40][140/140]\t\n",
      "Training Accuracy: 80.85%\n",
      "Training loss: 0.4063498808426503\n",
      "Validation accuracy: 73.09523809523809 %\n",
      "Validation F1: 0.4742688333595693\n",
      "==> Saving...\n"
     ]
    },
    {
     "name": "stderr",
     "output_type": "stream",
     "text": [
      "/opt/conda/lib/python3.10/site-packages/torch/utils/data/dataloader.py:561: UserWarning: This DataLoader will create 8 worker processes in total. Our suggested max number of worker in current system is 2, which is smaller than what this DataLoader is going to create. Please be aware that excessive worker creation might get DataLoader running slow or even freeze, lower the worker number to avoid potential slowness/freeze if necessary.\n",
      "  warnings.warn(_create_warning_msg(\n"
     ]
    },
    {
     "name": "stdout",
     "output_type": "stream",
     "text": [
      "Train: [41][20/140]\t\n",
      "Train: [41][40/140]\t\n",
      "Train: [41][60/140]\t\n",
      "Train: [41][80/140]\t\n",
      "Train: [41][100/140]\t\n",
      "Train: [41][120/140]\t\n",
      "Train: [41][140/140]\t\n",
      "Training Accuracy: 81.16%\n",
      "Training loss: 0.40704142201184745\n",
      "Validation accuracy: 75.71428571428571 %\n",
      "Validation F1: 0.448815469757012\n"
     ]
    },
    {
     "name": "stderr",
     "output_type": "stream",
     "text": [
      "/opt/conda/lib/python3.10/site-packages/torch/utils/data/dataloader.py:561: UserWarning: This DataLoader will create 8 worker processes in total. Our suggested max number of worker in current system is 2, which is smaller than what this DataLoader is going to create. Please be aware that excessive worker creation might get DataLoader running slow or even freeze, lower the worker number to avoid potential slowness/freeze if necessary.\n",
      "  warnings.warn(_create_warning_msg(\n"
     ]
    },
    {
     "name": "stdout",
     "output_type": "stream",
     "text": [
      "Train: [42][20/140]\t\n",
      "Train: [42][40/140]\t\n",
      "Train: [42][60/140]\t\n",
      "Train: [42][80/140]\t\n",
      "Train: [42][100/140]\t\n",
      "Train: [42][120/140]\t\n",
      "Train: [42][140/140]\t\n",
      "Training Accuracy: 81.14%\n",
      "Training loss: 0.4049182812724848\n",
      "Validation accuracy: 75.95238095238095 %\n",
      "Validation F1: 0.5265474562720421\n"
     ]
    },
    {
     "name": "stderr",
     "output_type": "stream",
     "text": [
      "/opt/conda/lib/python3.10/site-packages/torch/utils/data/dataloader.py:561: UserWarning: This DataLoader will create 8 worker processes in total. Our suggested max number of worker in current system is 2, which is smaller than what this DataLoader is going to create. Please be aware that excessive worker creation might get DataLoader running slow or even freeze, lower the worker number to avoid potential slowness/freeze if necessary.\n",
      "  warnings.warn(_create_warning_msg(\n"
     ]
    },
    {
     "name": "stdout",
     "output_type": "stream",
     "text": [
      "Train: [43][20/140]\t\n",
      "Train: [43][40/140]\t\n",
      "Train: [43][60/140]\t\n",
      "Train: [43][80/140]\t\n",
      "Train: [43][100/140]\t\n",
      "Train: [43][120/140]\t\n",
      "Train: [43][140/140]\t\n",
      "Training Accuracy: 81.18%\n",
      "Training loss: 0.40407322211820573\n",
      "Validation accuracy: 76.19047619047619 %\n",
      "Validation F1: 0.4978355295797859\n"
     ]
    },
    {
     "name": "stderr",
     "output_type": "stream",
     "text": [
      "/opt/conda/lib/python3.10/site-packages/torch/utils/data/dataloader.py:561: UserWarning: This DataLoader will create 8 worker processes in total. Our suggested max number of worker in current system is 2, which is smaller than what this DataLoader is going to create. Please be aware that excessive worker creation might get DataLoader running slow or even freeze, lower the worker number to avoid potential slowness/freeze if necessary.\n",
      "  warnings.warn(_create_warning_msg(\n"
     ]
    },
    {
     "name": "stdout",
     "output_type": "stream",
     "text": [
      "Train: [44][20/140]\t\n",
      "Train: [44][40/140]\t\n",
      "Train: [44][60/140]\t\n",
      "Train: [44][80/140]\t\n",
      "Train: [44][100/140]\t\n",
      "Train: [44][120/140]\t\n",
      "Train: [44][140/140]\t\n",
      "Training Accuracy: 81.32%\n",
      "Training loss: 0.4022274875846725\n",
      "Validation accuracy: 74.93197278911565 %\n",
      "Validation F1: 0.47026324266297986\n"
     ]
    },
    {
     "name": "stderr",
     "output_type": "stream",
     "text": [
      "/opt/conda/lib/python3.10/site-packages/torch/utils/data/dataloader.py:561: UserWarning: This DataLoader will create 8 worker processes in total. Our suggested max number of worker in current system is 2, which is smaller than what this DataLoader is going to create. Please be aware that excessive worker creation might get DataLoader running slow or even freeze, lower the worker number to avoid potential slowness/freeze if necessary.\n",
      "  warnings.warn(_create_warning_msg(\n"
     ]
    },
    {
     "name": "stdout",
     "output_type": "stream",
     "text": [
      "Train: [45][20/140]\t\n",
      "Train: [45][40/140]\t\n",
      "Train: [45][60/140]\t\n",
      "Train: [45][80/140]\t\n",
      "Train: [45][100/140]\t\n",
      "Train: [45][120/140]\t\n",
      "Train: [45][140/140]\t\n",
      "Training Accuracy: 81.45%\n",
      "Training loss: 0.402428167106646\n",
      "Validation accuracy: 75.20408163265306 %\n",
      "Validation F1: 0.4914565515040192\n",
      "==> Saving...\n"
     ]
    },
    {
     "name": "stderr",
     "output_type": "stream",
     "text": [
      "/opt/conda/lib/python3.10/site-packages/torch/utils/data/dataloader.py:561: UserWarning: This DataLoader will create 8 worker processes in total. Our suggested max number of worker in current system is 2, which is smaller than what this DataLoader is going to create. Please be aware that excessive worker creation might get DataLoader running slow or even freeze, lower the worker number to avoid potential slowness/freeze if necessary.\n",
      "  warnings.warn(_create_warning_msg(\n"
     ]
    },
    {
     "name": "stdout",
     "output_type": "stream",
     "text": [
      "Train: [46][20/140]\t\n",
      "Train: [46][40/140]\t\n",
      "Train: [46][60/140]\t\n",
      "Train: [46][80/140]\t\n",
      "Train: [46][100/140]\t\n",
      "Train: [46][120/140]\t\n",
      "Train: [46][140/140]\t\n",
      "Training Accuracy: 81.82%\n",
      "Training loss: 0.3976942797590997\n",
      "Validation accuracy: 73.46938775510205 %\n",
      "Validation F1: 0.5114269237539938\n"
     ]
    },
    {
     "name": "stderr",
     "output_type": "stream",
     "text": [
      "/opt/conda/lib/python3.10/site-packages/torch/utils/data/dataloader.py:561: UserWarning: This DataLoader will create 8 worker processes in total. Our suggested max number of worker in current system is 2, which is smaller than what this DataLoader is going to create. Please be aware that excessive worker creation might get DataLoader running slow or even freeze, lower the worker number to avoid potential slowness/freeze if necessary.\n",
      "  warnings.warn(_create_warning_msg(\n"
     ]
    },
    {
     "name": "stdout",
     "output_type": "stream",
     "text": [
      "Train: [47][20/140]\t\n",
      "Train: [47][40/140]\t\n",
      "Train: [47][60/140]\t\n",
      "Train: [47][80/140]\t\n",
      "Train: [47][100/140]\t\n",
      "Train: [47][120/140]\t\n",
      "Train: [47][140/140]\t\n",
      "Training Accuracy: 81.76%\n",
      "Training loss: 0.3950004962346671\n",
      "Validation accuracy: 76.59863945578232 %\n",
      "Validation F1: 0.5151963891569342\n"
     ]
    },
    {
     "name": "stderr",
     "output_type": "stream",
     "text": [
      "/opt/conda/lib/python3.10/site-packages/torch/utils/data/dataloader.py:561: UserWarning: This DataLoader will create 8 worker processes in total. Our suggested max number of worker in current system is 2, which is smaller than what this DataLoader is going to create. Please be aware that excessive worker creation might get DataLoader running slow or even freeze, lower the worker number to avoid potential slowness/freeze if necessary.\n",
      "  warnings.warn(_create_warning_msg(\n"
     ]
    },
    {
     "name": "stdout",
     "output_type": "stream",
     "text": [
      "Train: [48][20/140]\t\n",
      "Train: [48][40/140]\t\n",
      "Train: [48][60/140]\t\n",
      "Train: [48][80/140]\t\n",
      "Train: [48][100/140]\t\n",
      "Train: [48][120/140]\t\n",
      "Train: [48][140/140]\t\n",
      "Training Accuracy: 82.13%\n",
      "Training loss: 0.39156178478757264\n",
      "Validation accuracy: 75.64625850340137 %\n",
      "Validation F1: 0.5331743757137137\n"
     ]
    },
    {
     "name": "stderr",
     "output_type": "stream",
     "text": [
      "/opt/conda/lib/python3.10/site-packages/torch/utils/data/dataloader.py:561: UserWarning: This DataLoader will create 8 worker processes in total. Our suggested max number of worker in current system is 2, which is smaller than what this DataLoader is going to create. Please be aware that excessive worker creation might get DataLoader running slow or even freeze, lower the worker number to avoid potential slowness/freeze if necessary.\n",
      "  warnings.warn(_create_warning_msg(\n"
     ]
    },
    {
     "name": "stdout",
     "output_type": "stream",
     "text": [
      "Train: [49][20/140]\t\n",
      "Train: [49][40/140]\t\n",
      "Train: [49][60/140]\t\n",
      "Train: [49][80/140]\t\n",
      "Train: [49][100/140]\t\n",
      "Train: [49][120/140]\t\n",
      "Train: [49][140/140]\t\n",
      "Training Accuracy: 81.93%\n",
      "Training loss: 0.3941281602291228\n",
      "Validation accuracy: 76.32653061224491 %\n",
      "Validation F1: 0.5549868371724553\n"
     ]
    },
    {
     "name": "stderr",
     "output_type": "stream",
     "text": [
      "/opt/conda/lib/python3.10/site-packages/torch/utils/data/dataloader.py:561: UserWarning: This DataLoader will create 8 worker processes in total. Our suggested max number of worker in current system is 2, which is smaller than what this DataLoader is going to create. Please be aware that excessive worker creation might get DataLoader running slow or even freeze, lower the worker number to avoid potential slowness/freeze if necessary.\n",
      "  warnings.warn(_create_warning_msg(\n"
     ]
    },
    {
     "name": "stdout",
     "output_type": "stream",
     "text": [
      "Train: [50][20/140]\t\n",
      "Train: [50][40/140]\t\n",
      "Train: [50][60/140]\t\n",
      "Train: [50][80/140]\t\n",
      "Train: [50][100/140]\t\n",
      "Train: [50][120/140]\t\n",
      "Train: [50][140/140]\t\n",
      "Training Accuracy: 81.80%\n",
      "Training loss: 0.3964586818357251\n",
      "Validation accuracy: 74.8639455782313 %\n",
      "Validation F1: 0.5341451934060361\n",
      "==> Saving...\n"
     ]
    },
    {
     "name": "stderr",
     "output_type": "stream",
     "text": [
      "/opt/conda/lib/python3.10/site-packages/torch/utils/data/dataloader.py:561: UserWarning: This DataLoader will create 8 worker processes in total. Our suggested max number of worker in current system is 2, which is smaller than what this DataLoader is going to create. Please be aware that excessive worker creation might get DataLoader running slow or even freeze, lower the worker number to avoid potential slowness/freeze if necessary.\n",
      "  warnings.warn(_create_warning_msg(\n"
     ]
    },
    {
     "name": "stdout",
     "output_type": "stream",
     "text": [
      "Train: [51][20/140]\t\n",
      "Train: [51][40/140]\t\n",
      "Train: [51][60/140]\t\n",
      "Train: [51][80/140]\t\n",
      "Train: [51][100/140]\t\n",
      "Train: [51][120/140]\t\n",
      "Train: [51][140/140]\t\n",
      "Training Accuracy: 82.08%\n",
      "Training loss: 0.3910274611483991\n",
      "Validation accuracy: 76.87074829931973 %\n",
      "Validation F1: 0.5732900198912979\n"
     ]
    },
    {
     "name": "stderr",
     "output_type": "stream",
     "text": [
      "/opt/conda/lib/python3.10/site-packages/torch/utils/data/dataloader.py:561: UserWarning: This DataLoader will create 8 worker processes in total. Our suggested max number of worker in current system is 2, which is smaller than what this DataLoader is going to create. Please be aware that excessive worker creation might get DataLoader running slow or even freeze, lower the worker number to avoid potential slowness/freeze if necessary.\n",
      "  warnings.warn(_create_warning_msg(\n"
     ]
    },
    {
     "name": "stdout",
     "output_type": "stream",
     "text": [
      "Train: [52][20/140]\t\n",
      "Train: [52][40/140]\t\n",
      "Train: [52][60/140]\t\n",
      "Train: [52][80/140]\t\n",
      "Train: [52][100/140]\t\n",
      "Train: [52][120/140]\t\n",
      "Train: [52][140/140]\t\n",
      "Training Accuracy: 82.22%\n",
      "Training loss: 0.38771896776422626\n",
      "Validation accuracy: 73.40136054421768 %\n",
      "Validation F1: 0.5232586765416553\n"
     ]
    },
    {
     "name": "stderr",
     "output_type": "stream",
     "text": [
      "/opt/conda/lib/python3.10/site-packages/torch/utils/data/dataloader.py:561: UserWarning: This DataLoader will create 8 worker processes in total. Our suggested max number of worker in current system is 2, which is smaller than what this DataLoader is going to create. Please be aware that excessive worker creation might get DataLoader running slow or even freeze, lower the worker number to avoid potential slowness/freeze if necessary.\n",
      "  warnings.warn(_create_warning_msg(\n"
     ]
    },
    {
     "name": "stdout",
     "output_type": "stream",
     "text": [
      "Train: [53][20/140]\t\n",
      "Train: [53][40/140]\t\n",
      "Train: [53][60/140]\t\n",
      "Train: [53][80/140]\t\n",
      "Train: [53][100/140]\t\n",
      "Train: [53][120/140]\t\n",
      "Train: [53][140/140]\t\n",
      "Training Accuracy: 82.16%\n",
      "Training loss: 0.3896999579958115\n",
      "Validation accuracy: 75.95238095238095 %\n",
      "Validation F1: 0.5232753003570197\n"
     ]
    },
    {
     "name": "stderr",
     "output_type": "stream",
     "text": [
      "/opt/conda/lib/python3.10/site-packages/torch/utils/data/dataloader.py:561: UserWarning: This DataLoader will create 8 worker processes in total. Our suggested max number of worker in current system is 2, which is smaller than what this DataLoader is going to create. Please be aware that excessive worker creation might get DataLoader running slow or even freeze, lower the worker number to avoid potential slowness/freeze if necessary.\n",
      "  warnings.warn(_create_warning_msg(\n"
     ]
    },
    {
     "name": "stdout",
     "output_type": "stream",
     "text": [
      "Train: [54][20/140]\t\n",
      "Train: [54][40/140]\t\n",
      "Train: [54][60/140]\t\n",
      "Train: [54][80/140]\t\n",
      "Train: [54][100/140]\t\n",
      "Train: [54][120/140]\t\n",
      "Train: [54][140/140]\t\n",
      "Training Accuracy: 82.45%\n",
      "Training loss: 0.38372019207993546\n",
      "Validation accuracy: 77.24489795918367 %\n",
      "Validation F1: 0.5360233028855645\n"
     ]
    },
    {
     "name": "stderr",
     "output_type": "stream",
     "text": [
      "/opt/conda/lib/python3.10/site-packages/torch/utils/data/dataloader.py:561: UserWarning: This DataLoader will create 8 worker processes in total. Our suggested max number of worker in current system is 2, which is smaller than what this DataLoader is going to create. Please be aware that excessive worker creation might get DataLoader running slow or even freeze, lower the worker number to avoid potential slowness/freeze if necessary.\n",
      "  warnings.warn(_create_warning_msg(\n"
     ]
    },
    {
     "name": "stdout",
     "output_type": "stream",
     "text": [
      "Train: [55][20/140]\t\n",
      "Train: [55][40/140]\t\n",
      "Train: [55][60/140]\t\n",
      "Train: [55][80/140]\t\n",
      "Train: [55][100/140]\t\n",
      "Train: [55][120/140]\t\n",
      "Train: [55][140/140]\t\n",
      "Training Accuracy: 82.49%\n",
      "Training loss: 0.3841595442793941\n",
      "Validation accuracy: 77.27891156462586 %\n",
      "Validation F1: 0.5857341605249303\n",
      "==> Saving...\n"
     ]
    },
    {
     "name": "stderr",
     "output_type": "stream",
     "text": [
      "/opt/conda/lib/python3.10/site-packages/torch/utils/data/dataloader.py:561: UserWarning: This DataLoader will create 8 worker processes in total. Our suggested max number of worker in current system is 2, which is smaller than what this DataLoader is going to create. Please be aware that excessive worker creation might get DataLoader running slow or even freeze, lower the worker number to avoid potential slowness/freeze if necessary.\n",
      "  warnings.warn(_create_warning_msg(\n"
     ]
    },
    {
     "name": "stdout",
     "output_type": "stream",
     "text": [
      "Train: [56][20/140]\t\n",
      "Train: [56][40/140]\t\n",
      "Train: [56][60/140]\t\n",
      "Train: [56][80/140]\t\n",
      "Train: [56][100/140]\t\n",
      "Train: [56][120/140]\t\n",
      "Train: [56][140/140]\t\n",
      "Training Accuracy: 82.67%\n",
      "Training loss: 0.38242252428693657\n",
      "Validation accuracy: 75.81632653061224 %\n",
      "Validation F1: 0.5457356274483298\n"
     ]
    },
    {
     "name": "stderr",
     "output_type": "stream",
     "text": [
      "/opt/conda/lib/python3.10/site-packages/torch/utils/data/dataloader.py:561: UserWarning: This DataLoader will create 8 worker processes in total. Our suggested max number of worker in current system is 2, which is smaller than what this DataLoader is going to create. Please be aware that excessive worker creation might get DataLoader running slow or even freeze, lower the worker number to avoid potential slowness/freeze if necessary.\n",
      "  warnings.warn(_create_warning_msg(\n"
     ]
    },
    {
     "name": "stdout",
     "output_type": "stream",
     "text": [
      "Train: [57][20/140]\t\n",
      "Train: [57][40/140]\t\n",
      "Train: [57][60/140]\t\n",
      "Train: [57][80/140]\t\n",
      "Train: [57][100/140]\t\n",
      "Train: [57][120/140]\t\n",
      "Train: [57][140/140]\t\n",
      "Training Accuracy: 82.63%\n",
      "Training loss: 0.38201464833927734\n",
      "Validation accuracy: 73.74149659863946 %\n",
      "Validation F1: 0.5080524946203685\n"
     ]
    },
    {
     "name": "stderr",
     "output_type": "stream",
     "text": [
      "/opt/conda/lib/python3.10/site-packages/torch/utils/data/dataloader.py:561: UserWarning: This DataLoader will create 8 worker processes in total. Our suggested max number of worker in current system is 2, which is smaller than what this DataLoader is going to create. Please be aware that excessive worker creation might get DataLoader running slow or even freeze, lower the worker number to avoid potential slowness/freeze if necessary.\n",
      "  warnings.warn(_create_warning_msg(\n"
     ]
    },
    {
     "name": "stdout",
     "output_type": "stream",
     "text": [
      "Train: [58][20/140]\t\n",
      "Train: [58][40/140]\t\n",
      "Train: [58][60/140]\t\n",
      "Train: [58][80/140]\t\n",
      "Train: [58][100/140]\t\n",
      "Train: [58][120/140]\t\n",
      "Train: [58][140/140]\t\n",
      "Training Accuracy: 82.58%\n",
      "Training loss: 0.38352032844248735\n",
      "Validation accuracy: 73.40136054421768 %\n",
      "Validation F1: 0.49569783404241247\n"
     ]
    },
    {
     "name": "stderr",
     "output_type": "stream",
     "text": [
      "/opt/conda/lib/python3.10/site-packages/torch/utils/data/dataloader.py:561: UserWarning: This DataLoader will create 8 worker processes in total. Our suggested max number of worker in current system is 2, which is smaller than what this DataLoader is going to create. Please be aware that excessive worker creation might get DataLoader running slow or even freeze, lower the worker number to avoid potential slowness/freeze if necessary.\n",
      "  warnings.warn(_create_warning_msg(\n"
     ]
    },
    {
     "name": "stdout",
     "output_type": "stream",
     "text": [
      "Train: [59][20/140]\t\n",
      "Train: [59][40/140]\t\n",
      "Train: [59][60/140]\t\n",
      "Train: [59][80/140]\t\n",
      "Train: [59][100/140]\t\n",
      "Train: [59][120/140]\t\n",
      "Train: [59][140/140]\t\n",
      "Training Accuracy: 82.68%\n",
      "Training loss: 0.3821820479440272\n",
      "Validation accuracy: 76.49659863945578 %\n",
      "Validation F1: 0.5650060969767717\n"
     ]
    },
    {
     "name": "stderr",
     "output_type": "stream",
     "text": [
      "/opt/conda/lib/python3.10/site-packages/torch/utils/data/dataloader.py:561: UserWarning: This DataLoader will create 8 worker processes in total. Our suggested max number of worker in current system is 2, which is smaller than what this DataLoader is going to create. Please be aware that excessive worker creation might get DataLoader running slow or even freeze, lower the worker number to avoid potential slowness/freeze if necessary.\n",
      "  warnings.warn(_create_warning_msg(\n"
     ]
    },
    {
     "name": "stdout",
     "output_type": "stream",
     "text": [
      "Train: [60][20/140]\t\n",
      "Train: [60][40/140]\t\n",
      "Train: [60][60/140]\t\n",
      "Train: [60][80/140]\t\n",
      "Train: [60][100/140]\t\n",
      "Train: [60][120/140]\t\n",
      "Train: [60][140/140]\t\n",
      "Training Accuracy: 82.57%\n",
      "Training loss: 0.3806616835769021\n",
      "Validation accuracy: 75.74829931972789 %\n",
      "Validation F1: 0.5522349152997496\n",
      "==> Saving...\n"
     ]
    },
    {
     "name": "stderr",
     "output_type": "stream",
     "text": [
      "/opt/conda/lib/python3.10/site-packages/torch/utils/data/dataloader.py:561: UserWarning: This DataLoader will create 8 worker processes in total. Our suggested max number of worker in current system is 2, which is smaller than what this DataLoader is going to create. Please be aware that excessive worker creation might get DataLoader running slow or even freeze, lower the worker number to avoid potential slowness/freeze if necessary.\n",
      "  warnings.warn(_create_warning_msg(\n"
     ]
    },
    {
     "name": "stdout",
     "output_type": "stream",
     "text": [
      "Train: [61][20/140]\t\n",
      "Train: [61][40/140]\t\n",
      "Train: [61][60/140]\t\n",
      "Train: [61][80/140]\t\n",
      "Train: [61][100/140]\t\n",
      "Train: [61][120/140]\t\n",
      "Train: [61][140/140]\t\n",
      "Training Accuracy: 82.66%\n",
      "Training loss: 0.3834618912413666\n",
      "Validation accuracy: 77.58503401360545 %\n",
      "Validation F1: 0.5031286534347009\n"
     ]
    },
    {
     "name": "stderr",
     "output_type": "stream",
     "text": [
      "/opt/conda/lib/python3.10/site-packages/torch/utils/data/dataloader.py:561: UserWarning: This DataLoader will create 8 worker processes in total. Our suggested max number of worker in current system is 2, which is smaller than what this DataLoader is going to create. Please be aware that excessive worker creation might get DataLoader running slow or even freeze, lower the worker number to avoid potential slowness/freeze if necessary.\n",
      "  warnings.warn(_create_warning_msg(\n"
     ]
    },
    {
     "name": "stdout",
     "output_type": "stream",
     "text": [
      "Train: [62][20/140]\t\n",
      "Train: [62][40/140]\t\n",
      "Train: [62][60/140]\t\n",
      "Train: [62][80/140]\t\n",
      "Train: [62][100/140]\t\n",
      "Train: [62][120/140]\t\n",
      "Train: [62][140/140]\t\n",
      "Training Accuracy: 83.00%\n",
      "Training loss: 0.37462456145744255\n",
      "Validation accuracy: 77.75510204081633 %\n",
      "Validation F1: 0.5779645305485696\n"
     ]
    },
    {
     "name": "stderr",
     "output_type": "stream",
     "text": [
      "/opt/conda/lib/python3.10/site-packages/torch/utils/data/dataloader.py:561: UserWarning: This DataLoader will create 8 worker processes in total. Our suggested max number of worker in current system is 2, which is smaller than what this DataLoader is going to create. Please be aware that excessive worker creation might get DataLoader running slow or even freeze, lower the worker number to avoid potential slowness/freeze if necessary.\n",
      "  warnings.warn(_create_warning_msg(\n"
     ]
    },
    {
     "name": "stdout",
     "output_type": "stream",
     "text": [
      "Train: [63][20/140]\t\n",
      "Train: [63][40/140]\t\n",
      "Train: [63][60/140]\t\n",
      "Train: [63][80/140]\t\n",
      "Train: [63][100/140]\t\n",
      "Train: [63][120/140]\t\n",
      "Train: [63][140/140]\t\n",
      "Training Accuracy: 83.05%\n",
      "Training loss: 0.37408647695098873\n",
      "Validation accuracy: 76.90476190476191 %\n",
      "Validation F1: 0.533361455908299\n"
     ]
    },
    {
     "name": "stderr",
     "output_type": "stream",
     "text": [
      "/opt/conda/lib/python3.10/site-packages/torch/utils/data/dataloader.py:561: UserWarning: This DataLoader will create 8 worker processes in total. Our suggested max number of worker in current system is 2, which is smaller than what this DataLoader is going to create. Please be aware that excessive worker creation might get DataLoader running slow or even freeze, lower the worker number to avoid potential slowness/freeze if necessary.\n",
      "  warnings.warn(_create_warning_msg(\n"
     ]
    },
    {
     "name": "stdout",
     "output_type": "stream",
     "text": [
      "Train: [64][20/140]\t\n",
      "Train: [64][40/140]\t\n",
      "Train: [64][60/140]\t\n",
      "Train: [64][80/140]\t\n",
      "Train: [64][100/140]\t\n",
      "Train: [64][120/140]\t\n",
      "Train: [64][140/140]\t\n",
      "Training Accuracy: 82.90%\n",
      "Training loss: 0.37578670098712613\n",
      "Validation accuracy: 77.99319727891157 %\n",
      "Validation F1: 0.5563435456711116\n"
     ]
    },
    {
     "name": "stderr",
     "output_type": "stream",
     "text": [
      "/opt/conda/lib/python3.10/site-packages/torch/utils/data/dataloader.py:561: UserWarning: This DataLoader will create 8 worker processes in total. Our suggested max number of worker in current system is 2, which is smaller than what this DataLoader is going to create. Please be aware that excessive worker creation might get DataLoader running slow or even freeze, lower the worker number to avoid potential slowness/freeze if necessary.\n",
      "  warnings.warn(_create_warning_msg(\n"
     ]
    },
    {
     "name": "stdout",
     "output_type": "stream",
     "text": [
      "Train: [65][20/140]\t\n",
      "Train: [65][40/140]\t\n",
      "Train: [65][60/140]\t\n",
      "Train: [65][80/140]\t\n",
      "Train: [65][100/140]\t\n",
      "Train: [65][120/140]\t\n",
      "Train: [65][140/140]\t\n",
      "Training Accuracy: 83.46%\n",
      "Training loss: 0.37206116151611857\n",
      "Validation accuracy: 78.06122448979592 %\n",
      "Validation F1: 0.5921437180710775\n",
      "==> Saving...\n"
     ]
    },
    {
     "name": "stderr",
     "output_type": "stream",
     "text": [
      "/opt/conda/lib/python3.10/site-packages/torch/utils/data/dataloader.py:561: UserWarning: This DataLoader will create 8 worker processes in total. Our suggested max number of worker in current system is 2, which is smaller than what this DataLoader is going to create. Please be aware that excessive worker creation might get DataLoader running slow or even freeze, lower the worker number to avoid potential slowness/freeze if necessary.\n",
      "  warnings.warn(_create_warning_msg(\n"
     ]
    },
    {
     "name": "stdout",
     "output_type": "stream",
     "text": [
      "Train: [66][20/140]\t\n",
      "Train: [66][40/140]\t\n",
      "Train: [66][60/140]\t\n",
      "Train: [66][80/140]\t\n",
      "Train: [66][100/140]\t\n",
      "Train: [66][120/140]\t\n",
      "Train: [66][140/140]\t\n",
      "Training Accuracy: 83.15%\n",
      "Training loss: 0.3734341290973446\n",
      "Validation accuracy: 75.03401360544217 %\n",
      "Validation F1: 0.5170155535150109\n"
     ]
    },
    {
     "name": "stderr",
     "output_type": "stream",
     "text": [
      "/opt/conda/lib/python3.10/site-packages/torch/utils/data/dataloader.py:561: UserWarning: This DataLoader will create 8 worker processes in total. Our suggested max number of worker in current system is 2, which is smaller than what this DataLoader is going to create. Please be aware that excessive worker creation might get DataLoader running slow or even freeze, lower the worker number to avoid potential slowness/freeze if necessary.\n",
      "  warnings.warn(_create_warning_msg(\n"
     ]
    },
    {
     "name": "stdout",
     "output_type": "stream",
     "text": [
      "Train: [67][20/140]\t\n",
      "Train: [67][40/140]\t\n",
      "Train: [67][60/140]\t\n",
      "Train: [67][80/140]\t\n",
      "Train: [67][100/140]\t\n",
      "Train: [67][120/140]\t\n",
      "Train: [67][140/140]\t\n",
      "Training Accuracy: 83.13%\n",
      "Training loss: 0.3708304198340574\n",
      "Validation accuracy: 78.33333333333333 %\n",
      "Validation F1: 0.5922124431154066\n"
     ]
    },
    {
     "name": "stderr",
     "output_type": "stream",
     "text": [
      "/opt/conda/lib/python3.10/site-packages/torch/utils/data/dataloader.py:561: UserWarning: This DataLoader will create 8 worker processes in total. Our suggested max number of worker in current system is 2, which is smaller than what this DataLoader is going to create. Please be aware that excessive worker creation might get DataLoader running slow or even freeze, lower the worker number to avoid potential slowness/freeze if necessary.\n",
      "  warnings.warn(_create_warning_msg(\n"
     ]
    },
    {
     "name": "stdout",
     "output_type": "stream",
     "text": [
      "Train: [68][20/140]\t\n",
      "Train: [68][40/140]\t\n",
      "Train: [68][60/140]\t\n",
      "Train: [68][80/140]\t\n",
      "Train: [68][100/140]\t\n",
      "Train: [68][120/140]\t\n",
      "Train: [68][140/140]\t\n",
      "Training Accuracy: 83.15%\n",
      "Training loss: 0.371470025493896\n",
      "Validation accuracy: 76.22448979591837 %\n",
      "Validation F1: 0.5338267521695473\n"
     ]
    },
    {
     "name": "stderr",
     "output_type": "stream",
     "text": [
      "/opt/conda/lib/python3.10/site-packages/torch/utils/data/dataloader.py:561: UserWarning: This DataLoader will create 8 worker processes in total. Our suggested max number of worker in current system is 2, which is smaller than what this DataLoader is going to create. Please be aware that excessive worker creation might get DataLoader running slow or even freeze, lower the worker number to avoid potential slowness/freeze if necessary.\n",
      "  warnings.warn(_create_warning_msg(\n"
     ]
    },
    {
     "name": "stdout",
     "output_type": "stream",
     "text": [
      "Train: [69][20/140]\t\n",
      "Train: [69][40/140]\t\n",
      "Train: [69][60/140]\t\n",
      "Train: [69][80/140]\t\n",
      "Train: [69][100/140]\t\n",
      "Train: [69][120/140]\t\n",
      "Train: [69][140/140]\t\n",
      "Training Accuracy: 83.06%\n",
      "Training loss: 0.37374783056844746\n",
      "Validation accuracy: 80.4421768707483 %\n",
      "Validation F1: 0.6122389711210038\n",
      "==> Saving...\n"
     ]
    },
    {
     "name": "stderr",
     "output_type": "stream",
     "text": [
      "/opt/conda/lib/python3.10/site-packages/torch/utils/data/dataloader.py:561: UserWarning: This DataLoader will create 8 worker processes in total. Our suggested max number of worker in current system is 2, which is smaller than what this DataLoader is going to create. Please be aware that excessive worker creation might get DataLoader running slow or even freeze, lower the worker number to avoid potential slowness/freeze if necessary.\n",
      "  warnings.warn(_create_warning_msg(\n"
     ]
    },
    {
     "name": "stdout",
     "output_type": "stream",
     "text": [
      "Train: [70][20/140]\t\n",
      "Train: [70][40/140]\t\n",
      "Train: [70][60/140]\t\n",
      "Train: [70][80/140]\t\n",
      "Train: [70][100/140]\t\n",
      "Train: [70][120/140]\t\n",
      "Train: [70][140/140]\t\n",
      "Training Accuracy: 83.68%\n",
      "Training loss: 0.3643641691486994\n",
      "Validation accuracy: 77.14285714285715 %\n",
      "Validation F1: 0.5661979007290981\n",
      "==> Saving...\n"
     ]
    },
    {
     "name": "stderr",
     "output_type": "stream",
     "text": [
      "/opt/conda/lib/python3.10/site-packages/torch/utils/data/dataloader.py:561: UserWarning: This DataLoader will create 8 worker processes in total. Our suggested max number of worker in current system is 2, which is smaller than what this DataLoader is going to create. Please be aware that excessive worker creation might get DataLoader running slow or even freeze, lower the worker number to avoid potential slowness/freeze if necessary.\n",
      "  warnings.warn(_create_warning_msg(\n"
     ]
    },
    {
     "name": "stdout",
     "output_type": "stream",
     "text": [
      "Train: [71][20/140]\t\n",
      "Train: [71][40/140]\t\n",
      "Train: [71][60/140]\t\n",
      "Train: [71][80/140]\t\n",
      "Train: [71][100/140]\t\n",
      "Train: [71][120/140]\t\n",
      "Train: [71][140/140]\t\n",
      "Training Accuracy: 83.75%\n",
      "Training loss: 0.3625871798307218\n",
      "Validation accuracy: 75.10204081632654 %\n",
      "Validation F1: 0.5350908515196919\n"
     ]
    },
    {
     "name": "stderr",
     "output_type": "stream",
     "text": [
      "/opt/conda/lib/python3.10/site-packages/torch/utils/data/dataloader.py:561: UserWarning: This DataLoader will create 8 worker processes in total. Our suggested max number of worker in current system is 2, which is smaller than what this DataLoader is going to create. Please be aware that excessive worker creation might get DataLoader running slow or even freeze, lower the worker number to avoid potential slowness/freeze if necessary.\n",
      "  warnings.warn(_create_warning_msg(\n"
     ]
    },
    {
     "name": "stdout",
     "output_type": "stream",
     "text": [
      "Train: [72][20/140]\t\n",
      "Train: [72][40/140]\t\n",
      "Train: [72][60/140]\t\n",
      "Train: [72][80/140]\t\n",
      "Train: [72][100/140]\t\n",
      "Train: [72][120/140]\t\n",
      "Train: [72][140/140]\t\n",
      "Training Accuracy: 83.43%\n",
      "Training loss: 0.36602815519161996\n",
      "Validation accuracy: 77.44897959183673 %\n",
      "Validation F1: 0.5927465691644968\n"
     ]
    },
    {
     "name": "stderr",
     "output_type": "stream",
     "text": [
      "/opt/conda/lib/python3.10/site-packages/torch/utils/data/dataloader.py:561: UserWarning: This DataLoader will create 8 worker processes in total. Our suggested max number of worker in current system is 2, which is smaller than what this DataLoader is going to create. Please be aware that excessive worker creation might get DataLoader running slow or even freeze, lower the worker number to avoid potential slowness/freeze if necessary.\n",
      "  warnings.warn(_create_warning_msg(\n"
     ]
    },
    {
     "name": "stdout",
     "output_type": "stream",
     "text": [
      "Train: [73][20/140]\t\n",
      "Train: [73][40/140]\t\n",
      "Train: [73][60/140]\t\n",
      "Train: [73][80/140]\t\n",
      "Train: [73][100/140]\t\n",
      "Train: [73][120/140]\t\n",
      "Train: [73][140/140]\t\n",
      "Training Accuracy: 83.54%\n",
      "Training loss: 0.3626400938374121\n",
      "Validation accuracy: 77.61904761904762 %\n",
      "Validation F1: 0.5732116764199829\n"
     ]
    },
    {
     "name": "stderr",
     "output_type": "stream",
     "text": [
      "/opt/conda/lib/python3.10/site-packages/torch/utils/data/dataloader.py:561: UserWarning: This DataLoader will create 8 worker processes in total. Our suggested max number of worker in current system is 2, which is smaller than what this DataLoader is going to create. Please be aware that excessive worker creation might get DataLoader running slow or even freeze, lower the worker number to avoid potential slowness/freeze if necessary.\n",
      "  warnings.warn(_create_warning_msg(\n"
     ]
    },
    {
     "name": "stdout",
     "output_type": "stream",
     "text": [
      "Train: [74][20/140]\t\n",
      "Train: [74][40/140]\t\n",
      "Train: [74][60/140]\t\n",
      "Train: [74][80/140]\t\n",
      "Train: [74][100/140]\t\n",
      "Train: [74][120/140]\t\n",
      "Train: [74][140/140]\t\n",
      "Training Accuracy: 83.84%\n",
      "Training loss: 0.3621119503403865\n",
      "Validation accuracy: 77.99319727891157 %\n",
      "Validation F1: 0.5783411198218832\n"
     ]
    },
    {
     "name": "stderr",
     "output_type": "stream",
     "text": [
      "/opt/conda/lib/python3.10/site-packages/torch/utils/data/dataloader.py:561: UserWarning: This DataLoader will create 8 worker processes in total. Our suggested max number of worker in current system is 2, which is smaller than what this DataLoader is going to create. Please be aware that excessive worker creation might get DataLoader running slow or even freeze, lower the worker number to avoid potential slowness/freeze if necessary.\n",
      "  warnings.warn(_create_warning_msg(\n"
     ]
    },
    {
     "name": "stdout",
     "output_type": "stream",
     "text": [
      "Train: [75][20/140]\t\n",
      "Train: [75][40/140]\t\n",
      "Train: [75][60/140]\t\n",
      "Train: [75][80/140]\t\n",
      "Train: [75][100/140]\t\n",
      "Train: [75][120/140]\t\n",
      "Train: [75][140/140]\t\n",
      "Training Accuracy: 83.78%\n",
      "Training loss: 0.3589313267110896\n",
      "Validation accuracy: 77.41496598639456 %\n",
      "Validation F1: 0.5604087382547192\n",
      "==> Saving...\n"
     ]
    },
    {
     "name": "stderr",
     "output_type": "stream",
     "text": [
      "/opt/conda/lib/python3.10/site-packages/torch/utils/data/dataloader.py:561: UserWarning: This DataLoader will create 8 worker processes in total. Our suggested max number of worker in current system is 2, which is smaller than what this DataLoader is going to create. Please be aware that excessive worker creation might get DataLoader running slow or even freeze, lower the worker number to avoid potential slowness/freeze if necessary.\n",
      "  warnings.warn(_create_warning_msg(\n"
     ]
    },
    {
     "name": "stdout",
     "output_type": "stream",
     "text": [
      "Train: [76][20/140]\t\n",
      "Train: [76][40/140]\t\n",
      "Train: [76][60/140]\t\n",
      "Train: [76][80/140]\t\n",
      "Train: [76][100/140]\t\n",
      "Train: [76][120/140]\t\n",
      "Train: [76][140/140]\t\n",
      "Training Accuracy: 83.79%\n",
      "Training loss: 0.35945960974901825\n",
      "Validation accuracy: 78.46938775510203 %\n",
      "Validation F1: 0.5507967054672214\n"
     ]
    },
    {
     "name": "stderr",
     "output_type": "stream",
     "text": [
      "/opt/conda/lib/python3.10/site-packages/torch/utils/data/dataloader.py:561: UserWarning: This DataLoader will create 8 worker processes in total. Our suggested max number of worker in current system is 2, which is smaller than what this DataLoader is going to create. Please be aware that excessive worker creation might get DataLoader running slow or even freeze, lower the worker number to avoid potential slowness/freeze if necessary.\n",
      "  warnings.warn(_create_warning_msg(\n"
     ]
    },
    {
     "name": "stdout",
     "output_type": "stream",
     "text": [
      "Train: [77][20/140]\t\n",
      "Train: [77][40/140]\t\n",
      "Train: [77][60/140]\t\n",
      "Train: [77][80/140]\t\n",
      "Train: [77][100/140]\t\n",
      "Train: [77][120/140]\t\n",
      "Train: [77][140/140]\t\n",
      "Training Accuracy: 83.79%\n",
      "Training loss: 0.3602999512671783\n",
      "Validation accuracy: 77.7891156462585 %\n",
      "Validation F1: 0.5471745571752873\n"
     ]
    },
    {
     "name": "stderr",
     "output_type": "stream",
     "text": [
      "/opt/conda/lib/python3.10/site-packages/torch/utils/data/dataloader.py:561: UserWarning: This DataLoader will create 8 worker processes in total. Our suggested max number of worker in current system is 2, which is smaller than what this DataLoader is going to create. Please be aware that excessive worker creation might get DataLoader running slow or even freeze, lower the worker number to avoid potential slowness/freeze if necessary.\n",
      "  warnings.warn(_create_warning_msg(\n"
     ]
    },
    {
     "name": "stdout",
     "output_type": "stream",
     "text": [
      "Train: [78][20/140]\t\n",
      "Train: [78][40/140]\t\n",
      "Train: [78][60/140]\t\n",
      "Train: [78][80/140]\t\n",
      "Train: [78][100/140]\t\n",
      "Train: [78][120/140]\t\n",
      "Train: [78][140/140]\t\n",
      "Training Accuracy: 83.77%\n",
      "Training loss: 0.3602902493246416\n",
      "Validation accuracy: 80.17006802721089 %\n",
      "Validation F1: 0.5982311840206577\n"
     ]
    },
    {
     "name": "stderr",
     "output_type": "stream",
     "text": [
      "/opt/conda/lib/python3.10/site-packages/torch/utils/data/dataloader.py:561: UserWarning: This DataLoader will create 8 worker processes in total. Our suggested max number of worker in current system is 2, which is smaller than what this DataLoader is going to create. Please be aware that excessive worker creation might get DataLoader running slow or even freeze, lower the worker number to avoid potential slowness/freeze if necessary.\n",
      "  warnings.warn(_create_warning_msg(\n"
     ]
    },
    {
     "name": "stdout",
     "output_type": "stream",
     "text": [
      "Train: [79][20/140]\t\n",
      "Train: [79][40/140]\t\n",
      "Train: [79][60/140]\t\n",
      "Train: [79][80/140]\t\n",
      "Train: [79][100/140]\t\n",
      "Train: [79][120/140]\t\n",
      "Train: [79][140/140]\t\n",
      "Training Accuracy: 83.75%\n",
      "Training loss: 0.3551765282169055\n",
      "Validation accuracy: 75.85034013605441 %\n",
      "Validation F1: 0.5516496456426715\n"
     ]
    },
    {
     "name": "stderr",
     "output_type": "stream",
     "text": [
      "/opt/conda/lib/python3.10/site-packages/torch/utils/data/dataloader.py:561: UserWarning: This DataLoader will create 8 worker processes in total. Our suggested max number of worker in current system is 2, which is smaller than what this DataLoader is going to create. Please be aware that excessive worker creation might get DataLoader running slow or even freeze, lower the worker number to avoid potential slowness/freeze if necessary.\n",
      "  warnings.warn(_create_warning_msg(\n"
     ]
    },
    {
     "name": "stdout",
     "output_type": "stream",
     "text": [
      "Train: [80][20/140]\t\n",
      "Train: [80][40/140]\t\n",
      "Train: [80][60/140]\t\n",
      "Train: [80][80/140]\t\n",
      "Train: [80][100/140]\t\n",
      "Train: [80][120/140]\t\n",
      "Train: [80][140/140]\t\n",
      "Training Accuracy: 84.21%\n",
      "Training loss: 0.3552123497061249\n",
      "Validation accuracy: 79.21768707482994 %\n",
      "Validation F1: 0.5593739088167974\n",
      "==> Saving...\n"
     ]
    }
   ],
   "source": [
    "# training routine without freezing\n",
    "model[0].requires_grad_(True)\n",
    "opt.learning_rate = 0.005\n",
    "\n",
    "best_f1 = 0.6\n",
    "for epoch in range(1, 80+1):\n",
    "    train_supervised(train_loader, val_loader, model, criterion, optimizer, epoch, opt)\n",
    "    cur_f1 = sample_evaluation(val_loader, model, opt)\n",
    "    if cur_f1 > best_f1:\n",
    "        #submission_generate(test_loader, model, opt, epoch)\n",
    "        save_file = os.path.join(f'/kaggle/working/supervised/f_epoch_{epoch}.pth')\n",
    "        save_model(model, optimizer, opt, opt.epochs, save_file)\n",
    "    \n",
    "    if epoch % 5 == 0:\n",
    "        submission_generate(test_loader, model, opt, epoch)\n",
    "        save_file = os.path.join(f'/kaggle/working/supervised/f_epoch_{epoch}.pth')\n",
    "        save_model(model, optimizer, opt, opt.epochs, save_file)\n",
    "    "
   ]
  },
  {
   "cell_type": "code",
   "execution_count": 38,
   "metadata": {
    "execution": {
     "iopub.execute_input": "2023-09-04T08:29:03.954774Z",
     "iopub.status.busy": "2023-09-04T08:29:03.953964Z",
     "iopub.status.idle": "2023-09-04T08:29:04.254625Z",
     "shell.execute_reply": "2023-09-04T08:29:04.253607Z",
     "shell.execute_reply.started": "2023-09-04T08:29:03.954732Z"
    }
   },
   "outputs": [
    {
     "name": "stdout",
     "output_type": "stream",
     "text": [
      "==> Saving...\n"
     ]
    }
   ],
   "source": [
    "save_file = os.path.join('/kaggle/working/supervised/last.pth')\n",
    "save_model(model, optimizer, opt, opt.epochs, save_file)"
   ]
  },
  {
   "cell_type": "code",
   "execution_count": 39,
   "metadata": {
    "execution": {
     "iopub.execute_input": "2023-09-04T08:29:04.259828Z",
     "iopub.status.busy": "2023-09-04T08:29:04.258975Z",
     "iopub.status.idle": "2023-09-04T08:29:09.410503Z",
     "shell.execute_reply": "2023-09-04T08:29:09.409612Z",
     "shell.execute_reply.started": "2023-09-04T08:29:04.259761Z"
    }
   },
   "outputs": [
    {
     "name": "stdout",
     "output_type": "stream",
     "text": [
      "Validation accuracy: 79.21768707482994 %\n",
      "Validation F1: 0.5593739088167974\n"
     ]
    },
    {
     "data": {
      "text/plain": [
       "0.5593739088167974"
      ]
     },
     "execution_count": 39,
     "metadata": {},
     "output_type": "execute_result"
    }
   ],
   "source": [
    "# Validation\n",
    "sample_evaluation(val_loader, model, opt)"
   ]
  },
  {
   "cell_type": "code",
   "execution_count": 40,
   "metadata": {
    "execution": {
     "iopub.execute_input": "2023-09-04T08:29:09.412479Z",
     "iopub.status.busy": "2023-09-04T08:29:09.412128Z",
     "iopub.status.idle": "2023-09-04T08:29:12.347174Z",
     "shell.execute_reply": "2023-09-04T08:29:12.346110Z",
     "shell.execute_reply.started": "2023-09-04T08:29:09.412446Z"
    }
   },
   "outputs": [],
   "source": [
    "submission_generate(test_loader, model, opt)"
   ]
  },
  {
   "cell_type": "code",
   "execution_count": 41,
   "metadata": {
    "execution": {
     "iopub.execute_input": "2023-09-04T08:30:21.845171Z",
     "iopub.status.busy": "2023-09-04T08:30:21.844684Z",
     "iopub.status.idle": "2023-09-04T08:38:52.215081Z",
     "shell.execute_reply": "2023-09-04T08:38:52.213959Z",
     "shell.execute_reply.started": "2023-09-04T08:30:21.845129Z"
    }
   },
   "outputs": [
    {
     "name": "stderr",
     "output_type": "stream",
     "text": [
      "/opt/conda/lib/python3.10/site-packages/torch/utils/data/dataloader.py:561: UserWarning: This DataLoader will create 8 worker processes in total. Our suggested max number of worker in current system is 2, which is smaller than what this DataLoader is going to create. Please be aware that excessive worker creation might get DataLoader running slow or even freeze, lower the worker number to avoid potential slowness/freeze if necessary.\n",
      "  warnings.warn(_create_warning_msg(\n"
     ]
    },
    {
     "name": "stdout",
     "output_type": "stream",
     "text": [
      "Train: [81][20/140]\t\n",
      "Train: [81][40/140]\t\n",
      "Train: [81][60/140]\t\n",
      "Train: [81][80/140]\t\n",
      "Train: [81][100/140]\t\n",
      "Train: [81][120/140]\t\n",
      "Train: [81][140/140]\t\n",
      "Training Accuracy: 83.96%\n",
      "Training loss: 0.3547618683677373\n",
      "Validation accuracy: 80.54421768707482 %\n",
      "Validation F1: 0.6153431079167083\n",
      "==> Saving...\n"
     ]
    },
    {
     "name": "stderr",
     "output_type": "stream",
     "text": [
      "/opt/conda/lib/python3.10/site-packages/torch/utils/data/dataloader.py:561: UserWarning: This DataLoader will create 8 worker processes in total. Our suggested max number of worker in current system is 2, which is smaller than what this DataLoader is going to create. Please be aware that excessive worker creation might get DataLoader running slow or even freeze, lower the worker number to avoid potential slowness/freeze if necessary.\n",
      "  warnings.warn(_create_warning_msg(\n"
     ]
    },
    {
     "name": "stdout",
     "output_type": "stream",
     "text": [
      "Train: [82][20/140]\t\n",
      "Train: [82][40/140]\t\n",
      "Train: [82][60/140]\t\n",
      "Train: [82][80/140]\t\n",
      "Train: [82][100/140]\t\n",
      "Train: [82][120/140]\t\n",
      "Train: [82][140/140]\t\n",
      "Training Accuracy: 84.25%\n",
      "Training loss: 0.35224218989707184\n",
      "Validation accuracy: 78.77551020408163 %\n",
      "Validation F1: 0.6106228942968118\n",
      "==> Saving...\n"
     ]
    },
    {
     "name": "stderr",
     "output_type": "stream",
     "text": [
      "/opt/conda/lib/python3.10/site-packages/torch/utils/data/dataloader.py:561: UserWarning: This DataLoader will create 8 worker processes in total. Our suggested max number of worker in current system is 2, which is smaller than what this DataLoader is going to create. Please be aware that excessive worker creation might get DataLoader running slow or even freeze, lower the worker number to avoid potential slowness/freeze if necessary.\n",
      "  warnings.warn(_create_warning_msg(\n"
     ]
    },
    {
     "name": "stdout",
     "output_type": "stream",
     "text": [
      "Train: [83][20/140]\t\n",
      "Train: [83][40/140]\t\n",
      "Train: [83][60/140]\t\n",
      "Train: [83][80/140]\t\n",
      "Train: [83][100/140]\t\n",
      "Train: [83][120/140]\t\n",
      "Train: [83][140/140]\t\n",
      "Training Accuracy: 84.22%\n",
      "Training loss: 0.35029516655330994\n",
      "Validation accuracy: 79.04761904761905 %\n",
      "Validation F1: 0.5833562296151372\n"
     ]
    },
    {
     "name": "stderr",
     "output_type": "stream",
     "text": [
      "/opt/conda/lib/python3.10/site-packages/torch/utils/data/dataloader.py:561: UserWarning: This DataLoader will create 8 worker processes in total. Our suggested max number of worker in current system is 2, which is smaller than what this DataLoader is going to create. Please be aware that excessive worker creation might get DataLoader running slow or even freeze, lower the worker number to avoid potential slowness/freeze if necessary.\n",
      "  warnings.warn(_create_warning_msg(\n"
     ]
    },
    {
     "name": "stdout",
     "output_type": "stream",
     "text": [
      "Train: [84][20/140]\t\n",
      "Train: [84][40/140]\t\n",
      "Train: [84][60/140]\t\n",
      "Train: [84][80/140]\t\n",
      "Train: [84][100/140]\t\n",
      "Train: [84][120/140]\t\n",
      "Train: [84][140/140]\t\n",
      "Training Accuracy: 84.30%\n",
      "Training loss: 0.35205226891322583\n",
      "Validation accuracy: 77.85714285714286 %\n",
      "Validation F1: 0.5410882736180738\n"
     ]
    },
    {
     "name": "stderr",
     "output_type": "stream",
     "text": [
      "/opt/conda/lib/python3.10/site-packages/torch/utils/data/dataloader.py:561: UserWarning: This DataLoader will create 8 worker processes in total. Our suggested max number of worker in current system is 2, which is smaller than what this DataLoader is going to create. Please be aware that excessive worker creation might get DataLoader running slow or even freeze, lower the worker number to avoid potential slowness/freeze if necessary.\n",
      "  warnings.warn(_create_warning_msg(\n"
     ]
    },
    {
     "name": "stdout",
     "output_type": "stream",
     "text": [
      "Train: [85][20/140]\t\n",
      "Train: [85][40/140]\t\n",
      "Train: [85][60/140]\t\n",
      "Train: [85][80/140]\t\n",
      "Train: [85][100/140]\t\n",
      "Train: [85][120/140]\t\n",
      "Train: [85][140/140]\t\n",
      "Training Accuracy: 84.31%\n",
      "Training loss: 0.34980482757960396\n",
      "Validation accuracy: 77.68707482993197 %\n",
      "Validation F1: 0.5114563207967928\n",
      "==> Saving...\n"
     ]
    },
    {
     "name": "stderr",
     "output_type": "stream",
     "text": [
      "/opt/conda/lib/python3.10/site-packages/torch/utils/data/dataloader.py:561: UserWarning: This DataLoader will create 8 worker processes in total. Our suggested max number of worker in current system is 2, which is smaller than what this DataLoader is going to create. Please be aware that excessive worker creation might get DataLoader running slow or even freeze, lower the worker number to avoid potential slowness/freeze if necessary.\n",
      "  warnings.warn(_create_warning_msg(\n"
     ]
    },
    {
     "name": "stdout",
     "output_type": "stream",
     "text": [
      "Train: [86][20/140]\t\n",
      "Train: [86][40/140]\t\n",
      "Train: [86][60/140]\t\n",
      "Train: [86][80/140]\t\n",
      "Train: [86][100/140]\t\n",
      "Train: [86][120/140]\t\n",
      "Train: [86][140/140]\t\n",
      "Training Accuracy: 84.73%\n",
      "Training loss: 0.3461224349471693\n",
      "Validation accuracy: 78.843537414966 %\n",
      "Validation F1: 0.5535610676228311\n"
     ]
    },
    {
     "name": "stderr",
     "output_type": "stream",
     "text": [
      "/opt/conda/lib/python3.10/site-packages/torch/utils/data/dataloader.py:561: UserWarning: This DataLoader will create 8 worker processes in total. Our suggested max number of worker in current system is 2, which is smaller than what this DataLoader is going to create. Please be aware that excessive worker creation might get DataLoader running slow or even freeze, lower the worker number to avoid potential slowness/freeze if necessary.\n",
      "  warnings.warn(_create_warning_msg(\n"
     ]
    },
    {
     "name": "stdout",
     "output_type": "stream",
     "text": [
      "Train: [87][20/140]\t\n",
      "Train: [87][40/140]\t\n",
      "Train: [87][60/140]\t\n",
      "Train: [87][80/140]\t\n",
      "Train: [87][100/140]\t\n",
      "Train: [87][120/140]\t\n",
      "Train: [87][140/140]\t\n",
      "Training Accuracy: 84.54%\n",
      "Training loss: 0.3467886056379236\n",
      "Validation accuracy: 77.82312925170068 %\n",
      "Validation F1: 0.5233300504211909\n"
     ]
    },
    {
     "name": "stderr",
     "output_type": "stream",
     "text": [
      "/opt/conda/lib/python3.10/site-packages/torch/utils/data/dataloader.py:561: UserWarning: This DataLoader will create 8 worker processes in total. Our suggested max number of worker in current system is 2, which is smaller than what this DataLoader is going to create. Please be aware that excessive worker creation might get DataLoader running slow or even freeze, lower the worker number to avoid potential slowness/freeze if necessary.\n",
      "  warnings.warn(_create_warning_msg(\n"
     ]
    },
    {
     "name": "stdout",
     "output_type": "stream",
     "text": [
      "Train: [88][20/140]\t\n",
      "Train: [88][40/140]\t\n",
      "Train: [88][60/140]\t\n",
      "Train: [88][80/140]\t\n",
      "Train: [88][100/140]\t\n",
      "Train: [88][120/140]\t\n",
      "Train: [88][140/140]\t\n",
      "Training Accuracy: 84.53%\n",
      "Training loss: 0.347378740712489\n",
      "Validation accuracy: 78.57142857142857 %\n",
      "Validation F1: 0.5564202431135837\n"
     ]
    },
    {
     "name": "stderr",
     "output_type": "stream",
     "text": [
      "/opt/conda/lib/python3.10/site-packages/torch/utils/data/dataloader.py:561: UserWarning: This DataLoader will create 8 worker processes in total. Our suggested max number of worker in current system is 2, which is smaller than what this DataLoader is going to create. Please be aware that excessive worker creation might get DataLoader running slow or even freeze, lower the worker number to avoid potential slowness/freeze if necessary.\n",
      "  warnings.warn(_create_warning_msg(\n"
     ]
    },
    {
     "name": "stdout",
     "output_type": "stream",
     "text": [
      "Train: [89][20/140]\t\n",
      "Train: [89][40/140]\t\n",
      "Train: [89][60/140]\t\n",
      "Train: [89][80/140]\t\n",
      "Train: [89][100/140]\t\n",
      "Train: [89][120/140]\t\n",
      "Train: [89][140/140]\t\n",
      "Training Accuracy: 84.67%\n",
      "Training loss: 0.344360863575622\n",
      "Validation accuracy: 79.31972789115646 %\n",
      "Validation F1: 0.574247923555895\n"
     ]
    },
    {
     "name": "stderr",
     "output_type": "stream",
     "text": [
      "/opt/conda/lib/python3.10/site-packages/torch/utils/data/dataloader.py:561: UserWarning: This DataLoader will create 8 worker processes in total. Our suggested max number of worker in current system is 2, which is smaller than what this DataLoader is going to create. Please be aware that excessive worker creation might get DataLoader running slow or even freeze, lower the worker number to avoid potential slowness/freeze if necessary.\n",
      "  warnings.warn(_create_warning_msg(\n"
     ]
    },
    {
     "name": "stdout",
     "output_type": "stream",
     "text": [
      "Train: [90][20/140]\t\n",
      "Train: [90][40/140]\t\n",
      "Train: [90][60/140]\t\n",
      "Train: [90][80/140]\t\n",
      "Train: [90][100/140]\t\n",
      "Train: [90][120/140]\t\n",
      "Train: [90][140/140]\t\n",
      "Training Accuracy: 84.50%\n",
      "Training loss: 0.3449576673926888\n",
      "Validation accuracy: 77.00680272108843 %\n",
      "Validation F1: 0.5383774858293269\n",
      "==> Saving...\n"
     ]
    }
   ],
   "source": [
    "# training routine without freezing\n",
    "model[0].requires_grad_(True)\n",
    "opt.learning_rate = 0.005\n",
    "\n",
    "best_f1 = 0.6\n",
    "for epoch in range(81, 90+1):\n",
    "    train_supervised(train_loader, val_loader, model, criterion, optimizer, epoch, opt)\n",
    "    cur_f1 = sample_evaluation(val_loader, model, opt)\n",
    "    if cur_f1 > best_f1:\n",
    "        submission_generate(test_loader, model, opt, epoch)\n",
    "        save_file = os.path.join(f'/kaggle/working/supervised/f_epoch_{epoch}.pth')\n",
    "        save_model(model, optimizer, opt, opt.epochs, save_file)\n",
    "    \n",
    "    if epoch % 5 == 0:\n",
    "        submission_generate(test_loader, model, opt, epoch)\n",
    "        save_file = os.path.join(f'/kaggle/working/supervised/f_epoch_{epoch}.pth')\n",
    "        save_model(model, optimizer, opt, opt.epochs, save_file)"
   ]
  },
  {
   "cell_type": "code",
   "execution_count": null,
   "metadata": {},
   "outputs": [],
   "source": []
  },
  {
   "cell_type": "code",
   "execution_count": null,
   "metadata": {},
   "outputs": [],
   "source": []
  },
  {
   "cell_type": "code",
   "execution_count": null,
   "metadata": {},
   "outputs": [],
   "source": []
  },
  {
   "cell_type": "code",
   "execution_count": null,
   "metadata": {},
   "outputs": [],
   "source": []
  },
  {
   "cell_type": "code",
   "execution_count": null,
   "metadata": {},
   "outputs": [],
   "source": []
  },
  {
   "cell_type": "code",
   "execution_count": null,
   "metadata": {},
   "outputs": [],
   "source": []
  },
  {
   "cell_type": "code",
   "execution_count": null,
   "metadata": {},
   "outputs": [],
   "source": []
  },
  {
   "cell_type": "code",
   "execution_count": null,
   "metadata": {},
   "outputs": [],
   "source": []
  },
  {
   "cell_type": "code",
   "execution_count": null,
   "metadata": {},
   "outputs": [],
   "source": []
  },
  {
   "cell_type": "code",
   "execution_count": null,
   "metadata": {},
   "outputs": [],
   "source": []
  },
  {
   "cell_type": "code",
   "execution_count": null,
   "metadata": {},
   "outputs": [],
   "source": []
  },
  {
   "cell_type": "code",
   "execution_count": null,
   "metadata": {},
   "outputs": [],
   "source": []
  },
  {
   "cell_type": "code",
   "execution_count": null,
   "metadata": {},
   "outputs": [],
   "source": []
  },
  {
   "cell_type": "code",
   "execution_count": null,
   "metadata": {},
   "outputs": [],
   "source": []
  }
 ],
 "metadata": {
  "kernelspec": {
   "display_name": "Python 3",
   "language": "python",
   "name": "python3"
  },
  "language_info": {
   "codemirror_mode": {
    "name": "ipython",
    "version": 3
   },
   "file_extension": ".py",
   "mimetype": "text/x-python",
   "name": "python",
   "nbconvert_exporter": "python",
   "pygments_lexer": "ipython3",
   "version": "3.7.9"
  }
 },
 "nbformat": 4,
 "nbformat_minor": 4
}
